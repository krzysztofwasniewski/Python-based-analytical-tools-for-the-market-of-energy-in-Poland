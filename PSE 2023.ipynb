{
 "cells": [
  {
   "cell_type": "code",
   "execution_count": 3,
   "id": "7f7078e3-a673-46de-8b04-c135f9b465d4",
   "metadata": {
    "tags": []
   },
   "outputs": [],
   "source": [
    "import numpy as np\n",
    "import pandas as pd\n",
    "import os\n",
    "import math"
   ]
  },
  {
   "cell_type": "code",
   "execution_count": 4,
   "id": "05fbf35c-2a06-442f-acfa-8dc5f5af47ab",
   "metadata": {},
   "outputs": [
    {
     "name": "stderr",
     "output_type": "stream",
     "text": [
      "/Users/krzysztofwasniewski/opt/anaconda3/lib/python3.8/site-packages/scipy/__init__.py:146: UserWarning: A NumPy version >=1.16.5 and <1.23.0 is required for this version of SciPy (detected version 1.24.3\n",
      "  warnings.warn(f\"A NumPy version >={np_minversion} and <{np_maxversion}\"\n",
      "WARNING:root:TensorFlow Decision Forests 1.5.0 is compatible with the following TensorFlow Versions: ['2.13.0']. However, TensorFlow 2.13.1 was detected. This can cause issues with the TF API and symbols in the custom C++ ops. See the TF and TF-DF compatibility table at https://github.com/tensorflow/decision-forests/blob/main/documentation/known_issues.md#compatibility-table.\n"
     ]
    }
   ],
   "source": [
    "import tensorflow as tf\n",
    "import tensorflow_decision_forests as tfdf"
   ]
  },
  {
   "cell_type": "code",
   "execution_count": 5,
   "id": "df081888-2420-401c-9588-ca9574c78a63",
   "metadata": {},
   "outputs": [],
   "source": [
    "os.chdir('/Users/krzysztofwasniewski/Desktop/Geografia energetyki rozproszonej SGH OPUS Jesień 2023/PSE 2023')"
   ]
  },
  {
   "cell_type": "code",
   "execution_count": 6,
   "id": "431f4924-8edb-400d-912a-ad52c535458a",
   "metadata": {
    "tags": []
   },
   "outputs": [
    {
     "data": {
      "text/plain": [
       "['PL_BPKD_20230601_20230630_20230630220810.csv',\n",
       " 'PSE_2023.pdf',\n",
       " 'BPKD_2023_Opis godzinami.xlsx',\n",
       " 'Jednostki 12 2023 właściciele.xlsx',\n",
       " 'BPKD_05_2023.xlsx',\n",
       " 'BPKD_11_2023.xlsx',\n",
       " 'BPKD_08_2023.xlsx',\n",
       " 'Jednostki 07 2023 suma.xlsx',\n",
       " 'Jednostki 12 2023 suma.xlsx',\n",
       " 'PL_CENY_RYN_EN_20231101_20231130_20231129144224.csv',\n",
       " 'PL_CENY_RYN_EN_20231101_20231130_20231129.xlsx',\n",
       " 'BPKD_03_2023.xlsx',\n",
       " 'Intraday 2023 Pearson.xlsx',\n",
       " '.DS_Store',\n",
       " 'Ceny_2023.xlsx',\n",
       " 'PSE 2023.tex',\n",
       " 'PL_GEN_MOC_JW_EPS_20230701_20230731_20230805095320.csv',\n",
       " 'BPKD_2023_Suma miesiącami.xlsx',\n",
       " 'PL_BPKD_20230101_20230130_20230130224508.csv',\n",
       " 'PL_BPKD_20230301_20230330_20230330231442.csv',\n",
       " 'BPKD_10_2023.xlsx',\n",
       " 'EN_INTRA_DAY_BD_20190101_20190104_20190104232000.xlsx',\n",
       " 'BPKD_04_2023.xlsx',\n",
       " 'Prices Poland 2023.csv',\n",
       " 'PL_CENY_RYN_EN_20230901_20230930_20230929144312.csv',\n",
       " 'PL_CENY_RYN_EN_20230201_20230228_20230227.xlsx',\n",
       " 'PL_CENY_RYN_EN_20230101_20230131_20230130144247.csv',\n",
       " 'PL_CENY_RYN_EN_20230801_20230831_20230830144010.csv',\n",
       " 'PL_GEN_MOC_JW_EPS_20231201_20231231_20240103100248.csv',\n",
       " 'PL_CENY_RYN_EN_20231201_20231231_20231230143811.csv',\n",
       " 'PL_CENY_RYN_EN_20230501_20230531_20230530.xlsx',\n",
       " 'BPKD_09_2023.xlsx',\n",
       " 'PL_CENY_RYN_EN_20230801_20230831_20230830.xlsx',\n",
       " 'PL_OFERTY_BPKDBO_20230701_20230731_20231115024242.csv',\n",
       " 'PL_BPKD_20230701_20230730_20230730231718.csv',\n",
       " 'BPKD_02_2023.xlsx',\n",
       " 'PL_CENY_RYN_EN_20230701_20230731_20230730.xlsx',\n",
       " 'Jednostki 12 2023 lokalizacja.xlsx',\n",
       " 'BPKD_07_2023.xlsx',\n",
       " 'PL_BPKD_20230901_20230930_20230930233655.csv',\n",
       " 'PL_OFERTY_20230701_20230731_20230801010107.csv',\n",
       " 'Poland intraday aggregates 2023.csv',\n",
       " 'PL_CENY_RYN_EN_20230301_20230331_20230330.xlsx',\n",
       " 'PL_CENY_RYN_EN_20230601_20230630_20230629143833.csv',\n",
       " 'PL_CENY_RYN_EN_20230401_20230430_20230429143811.csv',\n",
       " 'BPKD_2023_Opis miesiącami.xlsx',\n",
       " 'PL_BPKD_20230801_20230831_20230831231753.xlsx',\n",
       " 'PL_CENY_RYN_EN_20230701_20230731_20230730144051.csv',\n",
       " 'PL_CENY_RYN_EN_20231201_20231231_20231230.xlsx',\n",
       " 'PL_BPKD_20230401_20230430_20230430224221.csv',\n",
       " 'Intraday 2023 stats.xlsx',\n",
       " 'PL_CENY_RYN_EN_20231001_20231031_20231030143745.csv',\n",
       " 'BPKD_2023_11.csv',\n",
       " 'BPKD_2023_Opis.xlsx',\n",
       " 'EN_INTRA_DAY_BD_20240117_20240117111515.xlsx',\n",
       " 'BPKD_01_2023.xlsx',\n",
       " 'BPKD_2023_10.csv',\n",
       " 'PL_CENY_RYN_EN_20230101_20230131_20230130.xlsx',\n",
       " 'BPKD_2023.xlsx',\n",
       " 'BPKD_2023_12.csv',\n",
       " 'PL_CENY_RYN_EN_20231001_20231031_20231030.xlsx',\n",
       " 'Jednostki 07 2023 lokalizacja.xlsx',\n",
       " 'PL_CENY_RYN_EN_20230401_20230430_20230429.xlsx',\n",
       " 'BPKD_12_2023.xlsx',\n",
       " 'BPKD_06_2023.xlsx',\n",
       " 'PL_CENY_RYN_EN_20230201_20230228_20230227144819.csv',\n",
       " 'PL_CENY_RYN_EN_20230501_20230531_20230530143754.csv',\n",
       " 'Ceny_2023_godziny.xlsx',\n",
       " 'BPKD 12 2023.xlsx',\n",
       " 'BPKD 2023 korelacje.xlsx',\n",
       " 'PL_BPKD_20230201_20230228_20230228231309.csv',\n",
       " 'PL_BPKD_20230801_20230831_20230831231753.csv',\n",
       " 'PL_CENY_RYN_EN_20230601_20230630_20230629.xlsx',\n",
       " 'BPKD_2023.csv',\n",
       " 'PL_CENY_RYN_EN_20230301_20230331_20230330144236.csv',\n",
       " 'PL_BPKD_20230501_20230530_20230530223022.csv',\n",
       " 'Jednostki 07 2023 właściciele.xlsx',\n",
       " 'PL_OFERTY_RBB_20230701_20230731_20230801020036.csv',\n",
       " 'Ceny_2023_miesiącami.xlsx',\n",
       " 'Ceny_2023.csv',\n",
       " 'PL_CENY_RYN_EN_20230901_20230930_20230929.xlsx']"
      ]
     },
     "execution_count": 6,
     "metadata": {},
     "output_type": "execute_result"
    }
   ],
   "source": [
    "os.listdir()"
   ]
  },
  {
   "cell_type": "code",
   "execution_count": 7,
   "id": "8466eb48-89cd-4e28-900a-e2f09a5c6167",
   "metadata": {},
   "outputs": [],
   "source": [
    "BPKD_06_2023=pd.DataFrame(pd.read_csv('PL_BPKD_20230601_20230630_20230630220810.csv',sep=';',header='infer'))\n",
    "BPKD_06_2023.insert(0,\"Month\",202306)\n",
    "\n",
    "BPKD_01_2023=pd.DataFrame(pd.read_csv('PL_BPKD_20230101_20230130_20230130224508.csv',sep=';',header='infer'))\n",
    "BPKD_01_2023.insert(0,\"Month\",202301)\n",
    "\n",
    "BPKD_03_2023=pd.DataFrame(pd.read_csv('PL_BPKD_20230301_20230330_20230330231442.csv',sep=';',header='infer'))\n",
    "BPKD_03_2023.insert(0,\"Month\",202303)\n",
    "\n",
    "BPKD_07_2023=pd.DataFrame(pd.read_csv('PL_BPKD_20230701_20230730_20230730231718.csv',sep=';',header='infer'))\n",
    "BPKD_07_2023.insert(0,\"Month\",202307)\n",
    "\n",
    "BPKD_09_2023=pd.DataFrame(pd.read_csv('PL_BPKD_20230901_20230930_20230930233655.csv',sep=';',header='infer'))\n",
    "BPKD_09_2023.insert(0,\"Month\",202309)\n",
    "\n",
    "BPKD_04_2023=pd.DataFrame(pd.read_csv('PL_BPKD_20230401_20230430_20230430224221.csv',sep=';',header='infer'))\n",
    "BPKD_04_2023.insert(0,\"Month\",202304)\n",
    "\n",
    "BPKD_11_2023=pd.DataFrame(pd.read_csv('BPKD_2023_11.csv',sep=';',header='infer'))\n",
    "BPKD_11_2023.insert(0,\"Month\",202311)\n",
    "\n",
    "BPKD_10_2023=pd.DataFrame(pd.read_csv('BPKD_2023_10.csv',sep=';',header='infer'))\n",
    "BPKD_10_2023.insert(0,\"Month\",202310)\n",
    "\n",
    "BPKD_12_2023=pd.DataFrame(pd.read_csv('BPKD_2023_12.csv',sep=';',header='infer'))\n",
    "BPKD_12_2023.insert(0,\"Month\",202312)\n",
    "\n",
    "BPKD_02_2023=pd.DataFrame(pd.read_csv('PL_BPKD_20230201_20230228_20230228231309.csv',sep=';',header='infer'))\n",
    "BPKD_02_2023.insert(0,\"Month\",202302)\n",
    "\n",
    "BPKD_05_2023=pd.DataFrame(pd.read_csv('PL_BPKD_20230501_20230530_20230530223022.csv',sep=';',header='infer'))\n",
    "BPKD_05_2023.insert(0,\"Month\",202305)\n",
    "\n",
    "BPKD_08_2023=pd.DataFrame(pd.read_csv('PL_BPKD_20230801_20230831_20230831231753.csv',sep=';',header='infer'))\n",
    "BPKD_08_2023.insert(0,\"Month\",202308)\n"
   ]
  },
  {
   "cell_type": "code",
   "execution_count": 8,
   "id": "24bd62aa-c41f-4203-8ea7-aedd90a7b5a6",
   "metadata": {},
   "outputs": [
    {
     "name": "stdout",
     "output_type": "stream",
     "text": [
      "<class 'pandas.core.frame.DataFrame'>\n",
      "Int64Index: 8664 entries, 0 to 743\n",
      "Data columns (total 23 columns):\n",
      " #   Column                                                                                       Non-Null Count  Dtype \n",
      "---  ------                                                                                       --------------  ----- \n",
      " 0   Month                                                                                        8664 non-null   int64 \n",
      " 1   Data                                                                                         8664 non-null   object\n",
      " 2   Godzina                                                                                      8664 non-null   object\n",
      " 3   Krajowe zapotrzebowanie na moc                                                               8664 non-null   int64 \n",
      " 4   Suma zdolnoœci wytwórczych jednostek wytwórczych w KSE                                       8664 non-null   int64 \n",
      " 5   Suma zdolnoœci wytwórczych JGWa                                                              8664 non-null   int64 \n",
      " 6   Suma zdolnoœci wytwórczych JGFWa                                                             8664 non-null   object\n",
      " 7   Suma zdolnoœci wytwórczych JGMa                                                              8664 non-null   int64 \n",
      " 8   Suma zdolnoœci wytwórczych JGPVa                                                             8664 non-null   object\n",
      " 9   Sumaryczna generacja JG aktywnych: JGWa, JGFWa, JGMa i JGPVa                                 8664 non-null   int64 \n",
      " 10  Sumaryczna generacja JGWa                                                                    8664 non-null   int64 \n",
      " 11  Sumaryczna generacja JGFWa                                                                   8664 non-null   object\n",
      " 12  Sumaryczna generacja JGMa                                                                    8664 non-null   int64 \n",
      " 13  Sumaryczna generacja JGPVa                                                                   8664 non-null   object\n",
      " 14  Sumaryczna generacja jednostek wytwórczych nieuczestnicz¹cych aktywnie w Rynku Bilansuj¹cym  8664 non-null   int64 \n",
      " 15  Generacja Ÿróde³ wiatrowych                                                                  8664 non-null   int64 \n",
      " 16  Generacja Ÿróde³ fotowoltaicznych                                                            8664 non-null   int64 \n",
      " 17  Sumaryczna moc ³adowania JGMa                                                                8664 non-null   object\n",
      " 18  Krajowe saldo wymiany miêdzysystemowej równoleg³ej                                           8664 non-null   int64 \n",
      " 19  Krajowe saldo wymiany miêdzysystemowej nierównoleg³ej                                        8664 non-null   int64 \n",
      " 20  Rezerwa mocy ponad zapotrzebowanie                                                           8664 non-null   int64 \n",
      " 21  Rezerwa mocy poni¿ej zapotrzebowania                                                         8664 non-null   int64 \n",
      " 22  Suma mocy z wykorzystanych Ofert Redukcji Obci¹¿enia JGOa                                    8664 non-null   int64 \n",
      "dtypes: int64(16), object(7)\n",
      "memory usage: 1.6+ MB\n"
     ]
    }
   ],
   "source": [
    "BPKD_2023=pd.concat([BPKD_01_2023,BPKD_02_2023,BPKD_03_2023,BPKD_04_2023,BPKD_05_2023,BPKD_06_2023,BPKD_07_2023,\n",
    "                    BPKD_08_2023,BPKD_09_2023,BPKD_10_2023,BPKD_11_2023,BPKD_12_2023])\n",
    "\n",
    "BPKD_2023=BPKD_2023.fillna(value=0)\n",
    "BPKD_2023.info()"
   ]
  },
  {
   "cell_type": "code",
   "execution_count": 9,
   "id": "cbe1ecd7-af18-401e-be98-a26a3e058f10",
   "metadata": {},
   "outputs": [],
   "source": [
    "#BPKD_2023.groupby('Month').describe().to_excel('BPKD_2023_Opis miesiącami.xlsx')\n",
    "#BPKD_2023.groupby('Godzina').describe().to_excel('BPKD_2023_Opis godzinami.xlsx')\n",
    "#BPKD_2023.groupby('Month').sum().to_excel('BPKD_2023_Suma miesiącami.xlsx')"
   ]
  },
  {
   "cell_type": "code",
   "execution_count": 10,
   "id": "49854e81-0cc7-45a1-944c-8b90cd25665c",
   "metadata": {
    "tags": []
   },
   "outputs": [
    {
     "data": {
      "text/plain": [
       "Index(['Month', 'Data', 'Godzina', 'Krajowe zapotrzebowanie na moc',\n",
       "       'Suma zdolnoœci wytwórczych jednostek wytwórczych w KSE',\n",
       "       'Suma zdolnoœci wytwórczych JGWa', 'Suma zdolnoœci wytwórczych JGFWa',\n",
       "       'Suma zdolnoœci wytwórczych JGMa', 'Suma zdolnoœci wytwórczych JGPVa',\n",
       "       'Sumaryczna generacja JG aktywnych: JGWa, JGFWa, JGMa i JGPVa',\n",
       "       'Sumaryczna generacja JGWa', 'Sumaryczna generacja JGFWa',\n",
       "       'Sumaryczna generacja JGMa', 'Sumaryczna generacja JGPVa',\n",
       "       'Sumaryczna generacja jednostek wytwórczych nieuczestnicz¹cych aktywnie w Rynku Bilansuj¹cym',\n",
       "       'Generacja Ÿróde³ wiatrowych', 'Generacja Ÿróde³ fotowoltaicznych',\n",
       "       'Sumaryczna moc ³adowania JGMa',\n",
       "       'Krajowe saldo wymiany miêdzysystemowej równoleg³ej',\n",
       "       'Krajowe saldo wymiany miêdzysystemowej nierównoleg³ej',\n",
       "       'Rezerwa mocy ponad zapotrzebowanie',\n",
       "       'Rezerwa mocy poni¿ej zapotrzebowania',\n",
       "       'Suma mocy z wykorzystanych Ofert Redukcji Obci¹¿enia JGOa'],\n",
       "      dtype='object')"
      ]
     },
     "execution_count": 10,
     "metadata": {},
     "output_type": "execute_result"
    }
   ],
   "source": [
    "BPKD_2023.columns"
   ]
  },
  {
   "cell_type": "code",
   "execution_count": 11,
   "id": "09f9cfac-a0d4-46fb-a2a5-c7033f5b4bee",
   "metadata": {},
   "outputs": [
    {
     "name": "stdout",
     "output_type": "stream",
     "text": [
      "<class 'pandas.core.frame.DataFrame'>\n",
      "Int64Index: 8664 entries, 0 to 743\n",
      "Data columns (total 17 columns):\n",
      " #   Column                                                                                       Non-Null Count  Dtype \n",
      "---  ------                                                                                       --------------  ----- \n",
      " 0   Month                                                                                        8664 non-null   int64 \n",
      " 1   Godzina                                                                                      8664 non-null   object\n",
      " 2   Krajowe zapotrzebowanie na moc                                                               8664 non-null   int64 \n",
      " 3   Suma zdolnoœci wytwórczych jednostek wytwórczych w KSE                                       8664 non-null   int64 \n",
      " 4   Suma zdolnoœci wytwórczych JGWa                                                              8664 non-null   int64 \n",
      " 5   Suma zdolnoœci wytwórczych JGMa                                                              8664 non-null   int64 \n",
      " 6   Sumaryczna generacja JG aktywnych: JGWa, JGFWa, JGMa i JGPVa                                 8664 non-null   int64 \n",
      " 7   Sumaryczna generacja JGWa                                                                    8664 non-null   int64 \n",
      " 8   Sumaryczna generacja JGMa                                                                    8664 non-null   int64 \n",
      " 9   Sumaryczna generacja jednostek wytwórczych nieuczestnicz¹cych aktywnie w Rynku Bilansuj¹cym  8664 non-null   int64 \n",
      " 10  Generacja Ÿróde³ wiatrowych                                                                  8664 non-null   int64 \n",
      " 11  Generacja Ÿróde³ fotowoltaicznych                                                            8664 non-null   int64 \n",
      " 12  Krajowe saldo wymiany miêdzysystemowej równoleg³ej                                           8664 non-null   int64 \n",
      " 13  Krajowe saldo wymiany miêdzysystemowej nierównoleg³ej                                        8664 non-null   int64 \n",
      " 14  Rezerwa mocy ponad zapotrzebowanie                                                           8664 non-null   int64 \n",
      " 15  Rezerwa mocy poni¿ej zapotrzebowania                                                         8664 non-null   int64 \n",
      " 16  Suma mocy z wykorzystanych Ofert Redukcji Obci¹¿enia JGOa                                    8664 non-null   int64 \n",
      "dtypes: int64(16), object(1)\n",
      "memory usage: 1.2+ MB\n"
     ]
    }
   ],
   "source": [
    "BPKD_2023.drop(['Data','Suma zdolnoœci wytwórczych JGFWa','Suma zdolnoœci wytwórczych JGPVa',\n",
    "                'Sumaryczna generacja JGFWa','Sumaryczna generacja JGPVa','Sumaryczna moc ³adowania JGMa'],axis=1,inplace=True)\n",
    "BPKD_2023.info()"
   ]
  },
  {
   "cell_type": "code",
   "execution_count": 12,
   "id": "87cab375-2649-4a28-9226-5b4cb55b43af",
   "metadata": {},
   "outputs": [],
   "source": [
    "BPKD_2023.rename(columns={'Krajowe zapotrzebowanie na moc':'National Demand for Capacity/Total load [MW]'},inplace=True)\n",
    "BPKD_2023.rename(columns={'Suma zdolnoœci wytwórczych jednostek wytwórczych w KSE':'Total capacity standing in the system [MW]'},inplace=True)\n",
    "BPKD_2023.rename(columns={'Suma zdolnoœci wytwórczych JGWa':'Total capacity of the scheduled generating units [MW]'},inplace=True)\n",
    "BPKD_2023.rename(columns={'Suma zdolnoœci wytwórczych JGMa':'Total capacity of the scheduled storage units [MW]'},inplace=True)\n",
    "BPKD_2023.rename(columns={'Sumaryczna generacja JG aktywnych JGWa, JGFWa, JGMa i JGPVa':'Total generation from all the scheduled units [MWh]'},inplace=True)\n",
    "BPKD_2023.rename(columns={'Sumaryczna generacja JGWa':'Total generation from the scheduled generation units [MWh]'},inplace=True)\n",
    "BPKD_2023.rename(columns={'Sumaryczna generacja JGMa':'Total generation from the scheduled storage units [MWh]'},inplace=True)\n",
    "BPKD_2023.rename(columns={'Sumaryczna generacja jednostek wytwórczych nieuczestnicz¹cych aktywnie w Rynku Bilansuj¹cym':'Total generation from non-balancing generation units [MWh]'},inplace=True)\n",
    "BPKD_2023.rename(columns={'Generacja Ÿróde³ wiatrowych':'Total generation from wind units [MWh]'},inplace=True)\n",
    "BPKD_2023.rename(columns={'Generacja Ÿróde³ fotowoltaicznych':'Total generation from solar units [MWh]'},inplace=True)\n",
    "BPKD_2023.rename(columns={'Krajowe saldo wymiany miêdzysystemowej równoleg³ej':'National balance on synchronous exchange [MWh]'},inplace=True)\n",
    "BPKD_2023.rename(columns={'Krajowe saldo wymiany miêdzysystemowej nierównoleg³ej':'National balance on asynchronous exchange [MWh]'},inplace=True)\n",
    "BPKD_2023.rename(columns={'Rezerwa mocy ponad zapotrzebowanie':'Reserve of capacity above demand [MW]'},inplace=True)\n",
    "BPKD_2023.rename(columns={'Rezerwa mocy poni¿ej zapotrzebowania':'Reserve of capacity below demand [MW]'},inplace=True)\n",
    "BPKD_2023.rename(columns={'Suma mocy z wykorzystanych Ofert Redukcji Obci¹¿enia JGOa':'Total capacity from the offers of load reduction [MW]'},inplace=True)\n",
    "BPKD_2023.rename(columns={'Godzina':'Hour'},inplace=True)"
   ]
  },
  {
   "cell_type": "code",
   "execution_count": 13,
   "id": "4b03490c-06c8-41c0-af35-7d184f2103a8",
   "metadata": {},
   "outputs": [],
   "source": [
    "BPKD_2023.to_csv('Poland intraday 2023.csv')"
   ]
  },
  {
   "cell_type": "code",
   "execution_count": 14,
   "id": "53614d15-6ab5-4e96-bbd4-0c6b93bcab7c",
   "metadata": {},
   "outputs": [],
   "source": [
    "Ceny_11_2023=pd.DataFrame(pd.read_excel('PL_CENY_RYN_EN_20231101_20231130_20231129.xlsx'))\n",
    "Ceny_11_2023.insert(0,\"Month\",202311)\n",
    "                          \n",
    "Ceny_02_2023=pd.DataFrame(pd.read_excel('PL_CENY_RYN_EN_20230201_20230228_20230227.xlsx'))\n",
    "Ceny_02_2023.insert(0,\"Month\",202302)\n",
    "                          \n",
    "Ceny_05_2023=pd.DataFrame(pd.read_excel('PL_CENY_RYN_EN_20230501_20230531_20230530.xlsx'))\n",
    "Ceny_05_2023.insert(0,\"Month\",202305)\n",
    "                          \n",
    "Ceny_08_2023=pd.DataFrame(pd.read_excel('PL_CENY_RYN_EN_20230801_20230831_20230830.xlsx'))\n",
    "Ceny_08_2023.insert(0,\"Month\",202308)\n",
    "                          \n",
    "Ceny_07_2023=pd.DataFrame(pd.read_excel('PL_CENY_RYN_EN_20230701_20230731_20230730.xlsx'))\n",
    "Ceny_07_2023.insert(0,\"Month\",202307)\n",
    "\n",
    "Ceny_03_2023=pd.DataFrame(pd.read_excel('PL_CENY_RYN_EN_20230301_20230331_20230330.xlsx'))\n",
    "Ceny_03_2023.insert(0,\"Month\",202303)\n",
    "                          \n",
    "Ceny_12_2023=pd.DataFrame(pd.read_excel('PL_CENY_RYN_EN_20231201_20231231_20231230.xlsx'))\n",
    "Ceny_12_2023.insert(0,\"Month\",202312)\n",
    "                          \n",
    "Ceny_01_2023=pd.DataFrame(pd.read_excel('PL_CENY_RYN_EN_20230101_20230131_20230130.xlsx'))\n",
    "Ceny_01_2023.insert(0,\"Month\",202301)                            \n",
    "\n",
    "Ceny_10_2023=pd.DataFrame(pd.read_excel('PL_CENY_RYN_EN_20231001_20231031_20231030.xlsx'))\n",
    "Ceny_10_2023.insert(0,\"Month\",202310)\n",
    "\n",
    "Ceny_04_2023=pd.DataFrame(pd.read_excel('PL_CENY_RYN_EN_20230401_20230430_20230429.xlsx'))\n",
    "Ceny_04_2023.insert(0,\"Month\",202304)\n",
    "\n",
    "Ceny_06_2023=pd.DataFrame(pd.read_excel('PL_CENY_RYN_EN_20230601_20230630_20230629.xlsx'))\n",
    "Ceny_06_2023.insert(0,\"Month\",202306)\n",
    "\n",
    "Ceny_09_2023=pd.DataFrame(pd.read_excel('PL_CENY_RYN_EN_20230901_20230930_20230929.xlsx'))\n",
    "Ceny_09_2023.insert(0,\"Month\",202309)\n"
   ]
  },
  {
   "cell_type": "code",
   "execution_count": 15,
   "id": "c482e6d5-9d80-484a-ab2e-cedebc239396",
   "metadata": {},
   "outputs": [],
   "source": [
    "Ceny_2023=pd.concat([Ceny_01_2023,Ceny_02_2023,Ceny_03_2023,Ceny_04_2023,Ceny_05_2023,Ceny_06_2023,Ceny_07_2023,\n",
    "                    Ceny_08_2023,Ceny_09_2023,Ceny_10_2023,Ceny_11_2023,Ceny_12_2023])\n",
    "Ceny_2023=Ceny_2023.dropna()"
   ]
  },
  {
   "cell_type": "code",
   "execution_count": 16,
   "id": "98f33bac-2041-49dc-a3ca-873220ab613d",
   "metadata": {},
   "outputs": [],
   "source": [
    "Ceny_2023.to_csv('Prices_2023.csv')"
   ]
  },
  {
   "cell_type": "code",
   "execution_count": 17,
   "id": "64d0d080-276c-46f1-8674-1e7ae70089b2",
   "metadata": {},
   "outputs": [],
   "source": [
    "Ceny_2023.groupby('Godzina').describe().to_excel('Ceny_2023_godziny.xlsx')"
   ]
  },
  {
   "cell_type": "code",
   "execution_count": 18,
   "id": "cdc8a19c-02e6-463d-8c40-7e8b3c8e34a4",
   "metadata": {},
   "outputs": [],
   "source": [
    "Ceny_2023.groupby('Month').describe().to_excel('Ceny_2023_miesiącami.xlsx')"
   ]
  },
  {
   "cell_type": "code",
   "execution_count": 19,
   "id": "e1f4050c-2ae5-4012-9e20-15a48adafe44",
   "metadata": {},
   "outputs": [],
   "source": [
    "BPKD_2023_correl=pd.DataFrame(BPKD_2023.corr(method='pearson'))\n",
    "BPKD_2023_correl.to_excel('BPKD 2023 korelacje.xlsx')"
   ]
  },
  {
   "cell_type": "code",
   "execution_count": 20,
   "id": "62dba345-a73f-4b84-ba85-942d7e0e713c",
   "metadata": {
    "tags": []
   },
   "outputs": [
    {
     "data": {
      "text/plain": [
       "Index(['Month', 'Data', 'Godzina', 'RCE'], dtype='object')"
      ]
     },
     "execution_count": 20,
     "metadata": {},
     "output_type": "execute_result"
    }
   ],
   "source": [
    "Ceny_2023.columns"
   ]
  },
  {
   "cell_type": "code",
   "execution_count": 21,
   "id": "1a466f98-4d8e-4544-886d-6c12bb9d4678",
   "metadata": {
    "tags": []
   },
   "outputs": [],
   "source": [
    "Ceny_2023.drop(['Data'],axis=1,inplace=True)"
   ]
  },
  {
   "cell_type": "code",
   "execution_count": 22,
   "id": "393ee21a-03cd-423f-896b-e0abae792157",
   "metadata": {},
   "outputs": [],
   "source": [
    "BPKD_2023_RCE=BPKD_2023.join(Ceny_2023,rsuffix='Ceny_2023')"
   ]
  },
  {
   "cell_type": "code",
   "execution_count": 23,
   "id": "780a2b6b-13fa-4b4c-9674-458abd3ba4d6",
   "metadata": {},
   "outputs": [
    {
     "name": "stdout",
     "output_type": "stream",
     "text": [
      "<class 'pandas.core.frame.DataFrame'>\n",
      "Int64Index: 103067 entries, 0 to 744\n",
      "Data columns (total 20 columns):\n",
      " #   Column                                                        Non-Null Count   Dtype  \n",
      "---  ------                                                        --------------   -----  \n",
      " 0   Month                                                         103067 non-null  int64  \n",
      " 1   Hour                                                          103067 non-null  object \n",
      " 2   National Demand for Capacity/Total load [MW]                  103067 non-null  int64  \n",
      " 3   Total capacity standing in the system [MW]                    103067 non-null  int64  \n",
      " 4   Total capacity of the scheduled generating units [MW]         103067 non-null  int64  \n",
      " 5   Total capacity of the scheduled storage units [MW]            103067 non-null  int64  \n",
      " 6   Sumaryczna generacja JG aktywnych: JGWa, JGFWa, JGMa i JGPVa  103067 non-null  int64  \n",
      " 7   Total generation from the scheduled generation units [MWh]    103067 non-null  int64  \n",
      " 8   Total generation from the scheduled storage units [MWh]       103067 non-null  int64  \n",
      " 9   Total generation from non-balancing generation units [MWh]    103067 non-null  int64  \n",
      " 10  Total generation from wind units [MWh]                        103067 non-null  int64  \n",
      " 11  Total generation from solar units [MWh]                       103067 non-null  int64  \n",
      " 12  National balance on synchronous exchange [MWh]                103067 non-null  int64  \n",
      " 13  National balance on asynchronous exchange [MWh]               103067 non-null  int64  \n",
      " 14  Reserve of capacity above demand [MW]                         103067 non-null  int64  \n",
      " 15  Reserve of capacity below demand [MW]                         103067 non-null  int64  \n",
      " 16  Total capacity from the offers of load reduction [MW]         103067 non-null  int64  \n",
      " 17  MonthCeny_2023                                                103067 non-null  int64  \n",
      " 18  Godzina                                                       103067 non-null  object \n",
      " 19  RCE                                                           103067 non-null  float64\n",
      "dtypes: float64(1), int64(17), object(2)\n",
      "memory usage: 16.5+ MB\n"
     ]
    }
   ],
   "source": [
    "BPKD_2023_RCE.info()"
   ]
  },
  {
   "cell_type": "code",
   "execution_count": 25,
   "id": "13c21790-6bd1-470a-9e35-137c3b8fba72",
   "metadata": {
    "tags": []
   },
   "outputs": [],
   "source": [
    "#BPKD_2023_RCE.drop(['Godzina'],axis=1,inplace=True)"
   ]
  },
  {
   "cell_type": "code",
   "execution_count": 27,
   "id": "0e79a242-9135-4e9d-a44e-53446a530880",
   "metadata": {},
   "outputs": [],
   "source": [
    "BPKD_2023_RCE.rename(columns={'RCE':'Market price of electricity [PLN/MWh]'},inplace=True)"
   ]
  },
  {
   "cell_type": "code",
   "execution_count": 29,
   "id": "5e3a7e31-0295-4787-8015-fcc49e653284",
   "metadata": {},
   "outputs": [
    {
     "name": "stdout",
     "output_type": "stream",
     "text": [
      "<class 'pandas.core.frame.DataFrame'>\n",
      "Int64Index: 103067 entries, 0 to 744\n",
      "Data columns (total 20 columns):\n",
      " #   Column                                                        Non-Null Count   Dtype  \n",
      "---  ------                                                        --------------   -----  \n",
      " 0   Month                                                         103067 non-null  float64\n",
      " 1   Hour                                                          103067 non-null  object \n",
      " 2   National Demand for Capacity/Total load [MW]                  103067 non-null  int64  \n",
      " 3   Total capacity standing in the system [MW]                    103067 non-null  int64  \n",
      " 4   Total capacity of the scheduled generating units [MW]         103067 non-null  int64  \n",
      " 5   Total capacity of the scheduled storage units [MW]            103067 non-null  int64  \n",
      " 6   Sumaryczna generacja JG aktywnych: JGWa, JGFWa, JGMa i JGPVa  103067 non-null  int64  \n",
      " 7   Total generation from the scheduled generation units [MWh]    103067 non-null  int64  \n",
      " 8   Total generation from the scheduled storage units [MWh]       103067 non-null  int64  \n",
      " 9   Total generation from non-balancing generation units [MWh]    103067 non-null  int64  \n",
      " 10  Total generation from wind units [MWh]                        103067 non-null  int64  \n",
      " 11  Total generation from solar units [MWh]                       103067 non-null  int64  \n",
      " 12  National balance on synchronous exchange [MWh]                103067 non-null  int64  \n",
      " 13  National balance on asynchronous exchange [MWh]               103067 non-null  int64  \n",
      " 14  Reserve of capacity above demand [MW]                         103067 non-null  int64  \n",
      " 15  Reserve of capacity below demand [MW]                         103067 non-null  int64  \n",
      " 16  Total capacity from the offers of load reduction [MW]         103067 non-null  int64  \n",
      " 17  MonthCeny_2023                                                103067 non-null  int64  \n",
      " 18  Godzina                                                       103067 non-null  object \n",
      " 19  Market price of electricity [PLN/MWh]                         103067 non-null  float64\n",
      "dtypes: float64(2), int64(16), object(2)\n",
      "memory usage: 16.5+ MB\n"
     ]
    }
   ],
   "source": [
    "#BPKD_2023_RCE.to_csv('/Volumes/SONY_MOV1/Intraday market Poland 2023.csv')\n",
    "#BPKD_2023_RCE.to_excel('/Volumes/SONY_MOV1/Intraday market Poland 2023.xlsx')\n",
    "BPKD_2023_RCE.info()"
   ]
  },
  {
   "cell_type": "code",
   "execution_count": null,
   "id": "fcb8c4c5-46eb-4afc-8010-759214f3588e",
   "metadata": {},
   "outputs": [],
   "source": [
    "#BPKD_2023_RCE.describe().transpose().to_excel('Intraday 2023 stats.xlsx')\n",
    "#BPKD_2023_RCE_correl=pd.DataFrame(BPKD_2023_RCE.corr(method='pearson'))\n",
    "#BPKD_2023_RCE_correl.to_excel('Intraday 2023 Pearson.xlsx')"
   ]
  },
  {
   "cell_type": "code",
   "execution_count": null,
   "id": "d3631f3a-2a76-49f7-a293-ce4327be9f2b",
   "metadata": {},
   "outputs": [],
   "source": [
    "#Define thresholds\n",
    "High_solar=BPKD_2023_RCE['Total generation from solar units [MWh]'].mean()+BPKD_2023_RCE['Total generation from solar units [MWh]'].std()\n",
    "High_solar"
   ]
  },
  {
   "cell_type": "code",
   "execution_count": null,
   "id": "6b41d4a7-63d0-4cb6-b6a6-9393e3579832",
   "metadata": {},
   "outputs": [],
   "source": [
    "Low_solar=BPKD_2023_RCE['Total generation from solar units [MWh]'].mean()\n",
    "Low_solar"
   ]
  },
  {
   "cell_type": "code",
   "execution_count": null,
   "id": "e6dbae63-7c13-4e90-b1aa-f43417469329",
   "metadata": {},
   "outputs": [],
   "source": [
    "High_wind=BPKD_2023_RCE['Total generation from wind units [MWh]'].mean()+BPKD_2023_RCE['Total generation from wind units [MWh]'].std()\n",
    "High_wind"
   ]
  },
  {
   "cell_type": "code",
   "execution_count": null,
   "id": "d2daa276-25ec-43a9-8c2e-fb784736b384",
   "metadata": {
    "tags": []
   },
   "outputs": [],
   "source": [
    "Low_wind=BPKD_2023_RCE['Total generation from wind units [MWh]'].mean()-BPKD_2023_RCE['Total generation from wind units [MWh]'].std()\n",
    "Low_wind"
   ]
  },
  {
   "cell_type": "code",
   "execution_count": null,
   "id": "b3d80b6b-3ae9-4057-9e4c-dbe67bcdcdf6",
   "metadata": {
    "tags": []
   },
   "outputs": [],
   "source": [
    "High_non_balancing=BPKD_2023_RCE['Total generation from non-balancing generation units [MWh]'].mean()+BPKD_2023_RCE['Total generation from non-balancing generation units [MWh]'].std()\n",
    "High_non_balancing"
   ]
  },
  {
   "cell_type": "code",
   "execution_count": null,
   "id": "f68c89d4-243e-4ac2-9774-93be99557874",
   "metadata": {},
   "outputs": [],
   "source": [
    "Low_non_balancing=BPKD_2023_RCE['Total generation from non-balancing generation units [MWh]'].mean()-BPKD_2023_RCE['Total generation from non-balancing generation units [MWh]'].std()\n",
    "Low_non_balancing"
   ]
  },
  {
   "cell_type": "code",
   "execution_count": null,
   "id": "2ac3e9f3-650c-4c50-828b-8216de20cabd",
   "metadata": {
    "tags": []
   },
   "outputs": [],
   "source": [
    "High_asynchronous=BPKD_2023_RCE['National balance on asynchronous exchange [MWh]'].mean()+BPKD_2023_RCE['National balance on asynchronous exchange [MWh]'].std()\n",
    "High_asynchronous"
   ]
  },
  {
   "cell_type": "code",
   "execution_count": null,
   "id": "db21ded3-ae0a-45dd-8ccf-ad8952af0c8b",
   "metadata": {},
   "outputs": [],
   "source": [
    "Low_asynchronous=BPKD_2023_RCE['National balance on asynchronous exchange [MWh]'].mean()-BPKD_2023_RCE['National balance on asynchronous exchange [MWh]'].std()\n",
    "Low_asynchronous"
   ]
  },
  {
   "cell_type": "code",
   "execution_count": null,
   "id": "d387cd3f-87e6-4975-8df4-b00213392ed2",
   "metadata": {},
   "outputs": [],
   "source": [
    "High_total_capacity=BPKD_2023_RCE['Total capacity standing in the system [MW]'].mean()+BPKD_2023_RCE['Total capacity standing in the system [MW]'].std()\n",
    "High_total_capacity"
   ]
  },
  {
   "cell_type": "code",
   "execution_count": null,
   "id": "7999317c-f102-4d0d-b308-89889383d39a",
   "metadata": {},
   "outputs": [],
   "source": [
    "Low_total_capacity=BPKD_2023_RCE['Total capacity standing in the system [MW]'].mean()-BPKD_2023_RCE['Total capacity standing in the system [MW]'].std()\n",
    "Low_total_capacity"
   ]
  },
  {
   "cell_type": "code",
   "execution_count": null,
   "id": "f0392ada-e361-4e5c-98ee-e5f041c5e658",
   "metadata": {},
   "outputs": [],
   "source": [
    "High_storage_capacity=High_total_capacity=BPKD_2023_RCE['Total capacity of the scheduled storage units [MW]'].mean()+BPKD_2023_RCE['Total capacity of the scheduled storage units [MW]'].std()\n",
    "High_storage_capacity"
   ]
  },
  {
   "cell_type": "code",
   "execution_count": null,
   "id": "a2f5a6dc-38bf-4d0f-b76c-5510eb05cf52",
   "metadata": {},
   "outputs": [],
   "source": [
    "Low_storage_capacity=High_total_capacity=BPKD_2023_RCE['Total capacity of the scheduled storage units [MW]'].mean()\n",
    "Low_storage_capacity "
   ]
  },
  {
   "cell_type": "code",
   "execution_count": null,
   "id": "c6e764fc-3d52-4bfd-9fb8-f01e0ab919a7",
   "metadata": {},
   "outputs": [],
   "source": [
    "#Create dataframes for extreme states\n",
    "High_solar_data=pd.DataFrame(BPKD_2023_RCE[BPKD_2023_RCE['Total generation from solar units [MWh]']>High_solar])\n",
    "High_solar_data.info()"
   ]
  },
  {
   "cell_type": "code",
   "execution_count": null,
   "id": "17290b8f-cb84-434c-a950-ad4698bb45d1",
   "metadata": {},
   "outputs": [],
   "source": [
    "Low_solar_data=pd.DataFrame(BPKD_2023_RCE[BPKD_2023_RCE['Total generation from solar units [MWh]']<Low_solar])\n",
    "Low_solar_data.info()"
   ]
  },
  {
   "cell_type": "code",
   "execution_count": null,
   "id": "85f2c016-39fb-45f9-9f76-8d02b3723771",
   "metadata": {},
   "outputs": [],
   "source": [
    "High_wind_data=pd.DataFrame(BPKD_2023_RCE[BPKD_2023_RCE['Total generation from wind units [MWh]']>High_wind])\n",
    "High_wind_data.info()"
   ]
  },
  {
   "cell_type": "code",
   "execution_count": null,
   "id": "8c2566c9-65f1-4b25-b21a-1bc6270aaa26",
   "metadata": {},
   "outputs": [],
   "source": [
    "Low_wind_data=pd.DataFrame(BPKD_2023_RCE[BPKD_2023_RCE['Total generation from wind units [MWh]']<Low_wind])\n",
    "Low_wind_data.info()"
   ]
  },
  {
   "cell_type": "code",
   "execution_count": null,
   "id": "b7e57f0a-3148-4ea4-a1e5-5ddc5c68632e",
   "metadata": {},
   "outputs": [],
   "source": [
    "High_non_balancing_data=pd.DataFrame(BPKD_2023_RCE[BPKD_2023_RCE['Total generation from non-balancing generation units [MWh]']>High_non_balancing])\n",
    "High_non_balancing_data.info()"
   ]
  },
  {
   "cell_type": "code",
   "execution_count": null,
   "id": "72d121fc-dfcb-4844-9cb6-a1838d89d47e",
   "metadata": {},
   "outputs": [],
   "source": [
    "Low_non_balancing_data=pd.DataFrame(BPKD_2023_RCE[BPKD_2023_RCE['Total generation from non-balancing generation units [MWh]']<Low_non_balancing])\n",
    "Low_non_balancing_data.info()"
   ]
  },
  {
   "cell_type": "code",
   "execution_count": null,
   "id": "218aef4e-3e6a-4e83-b69a-022842f7e40c",
   "metadata": {},
   "outputs": [],
   "source": [
    "High_asynchronous_data=pd.DataFrame(BPKD_2023_RCE[BPKD_2023_RCE['National balance on asynchronous exchange [MWh]']>High_asynchronous])\n",
    "High_asynchronous_data.info()"
   ]
  },
  {
   "cell_type": "code",
   "execution_count": null,
   "id": "08148f05-8a5b-4488-9cd6-d0e337525929",
   "metadata": {},
   "outputs": [],
   "source": [
    "Low_asynchronous_data=pd.DataFrame(BPKD_2023_RCE[BPKD_2023_RCE['National balance on asynchronous exchange [MWh]']<Low_asynchronous])\n",
    "Low_asynchronous_data.info()"
   ]
  },
  {
   "cell_type": "code",
   "execution_count": null,
   "id": "130592b8-b240-4b0a-bf61-75466f1d5ba7",
   "metadata": {},
   "outputs": [],
   "source": [
    "High_total_capacity_data=pd.DataFrame(BPKD_2023_RCE[BPKD_2023_RCE['Total capacity standing in the system [MW]']>High_total_capacity])\n",
    "High_total_capacity_data.info()"
   ]
  },
  {
   "cell_type": "code",
   "execution_count": null,
   "id": "9f8fa695-9e9a-4fa5-a568-5b3d4dca2f0d",
   "metadata": {},
   "outputs": [],
   "source": [
    "Low_total_capacity_data=pd.DataFrame(BPKD_2023_RCE[BPKD_2023_RCE['Total capacity standing in the system [MW]']<Low_total_capacity])\n",
    "Low_total_capacity_data.info()"
   ]
  },
  {
   "cell_type": "code",
   "execution_count": null,
   "id": "d271d6c9-602c-4a94-aabc-2c21f4cddfb3",
   "metadata": {},
   "outputs": [],
   "source": [
    "High_storage_capacity_data=pd.DataFrame(BPKD_2023_RCE[BPKD_2023_RCE['Total capacity of the scheduled storage units [MW]']>High_storage_capacity])\n",
    "High_storage_capacity_data.info()"
   ]
  },
  {
   "cell_type": "code",
   "execution_count": null,
   "id": "4641bec3-39a7-4bba-a8d4-1415bc368bd6",
   "metadata": {
    "jupyter": {
     "source_hidden": true
    },
    "tags": []
   },
   "outputs": [],
   "source": [
    "Low_storage_capacity_data=pd.DataFrame(BPKD_2023_RCE[BPKD_2023_RCE['Total capacity of the scheduled storage units [MW]']<Low_storage_capacity])\n",
    "Low_storage_capacity_data.info()"
   ]
  },
  {
   "cell_type": "code",
   "execution_count": null,
   "id": "e09e90ab-4484-4fbf-ac18-382e9d1e05ff",
   "metadata": {},
   "outputs": [],
   "source": [
    "BPKD_2023_RCE.drop(['Hour'],axis=1,inplace=True)"
   ]
  },
  {
   "cell_type": "code",
   "execution_count": null,
   "id": "21a1f0f8-e2ef-4ba7-816c-b2521f67d7ba",
   "metadata": {},
   "outputs": [],
   "source": [
    "label=\"Month\""
   ]
  },
  {
   "cell_type": "code",
   "execution_count": null,
   "id": "59407e03-fdcf-41d8-87be-61b2a146ac81",
   "metadata": {},
   "outputs": [],
   "source": [
    "classes = BPKD_2023_RCE[label].unique().tolist()\n",
    "print(f\"Label classes: {classes}\")\n",
    "\n",
    "BPKD_2023_RCE[label] = BPKD_2023_RCE[label].map(classes.index)"
   ]
  },
  {
   "cell_type": "code",
   "execution_count": null,
   "id": "d06535b0-afe4-47d2-8373-8f00751ca80e",
   "metadata": {},
   "outputs": [],
   "source": [
    "# Split the dataset into a training and a testing dataset.\n",
    "\n",
    "def split_dataset(dataset, test_ratio=0.30):\n",
    "  \"\"\"Splits a panda dataframe in two.\"\"\"\n",
    "  test_indices = np.random.rand(len(dataset)) < test_ratio\n",
    "  return dataset[~test_indices], dataset[test_indices]\n",
    "\n",
    "\n",
    "train_ds_pd, test_ds_pd = split_dataset(BPKD_2023_RCE)\n",
    "print(\"{} examples in training, {} examples for testing.\".format(\n",
    "    len(train_ds_pd), len(test_ds_pd)))"
   ]
  },
  {
   "cell_type": "code",
   "execution_count": null,
   "id": "c312689a-4451-4d04-a9af-d828892ee905",
   "metadata": {},
   "outputs": [],
   "source": [
    "#Normalize the data\n",
    "train_mean = train_ds_pd.mean()\n",
    "\n",
    "train_ds_pd = train_ds_pd / train_mean\n",
    "test_ds_pd = test_ds_pd / train_mean"
   ]
  },
  {
   "cell_type": "code",
   "execution_count": null,
   "id": "8a8fe09a-c115-4452-8599-3e51e72cc6b9",
   "metadata": {},
   "outputs": [],
   "source": [
    "train_ds = tfdf.keras.pd_dataframe_to_tf_dataset(train_ds_pd, label=label)\n",
    "test_ds = tfdf.keras.pd_dataframe_to_tf_dataset(test_ds_pd, label=label)"
   ]
  },
  {
   "cell_type": "code",
   "execution_count": null,
   "id": "abfe35ea-d801-4839-b5c2-038a892f0413",
   "metadata": {},
   "outputs": [],
   "source": [
    "# Specify the model.\n",
    "model_1 = tfdf.keras.RandomForestModel(verbose=2)\n",
    "\n",
    "# Train the model.\n",
    "model_1.fit(train_ds)"
   ]
  },
  {
   "cell_type": "code",
   "execution_count": null,
   "id": "19a09b5d-399b-4c76-a7e4-81dd3e6bb522",
   "metadata": {
    "tags": []
   },
   "outputs": [],
   "source": [
    "model_1.compile(metrics=[\"accuracy\"])\n",
    "evaluation = model_1.evaluate(test_ds, return_dict=True)\n",
    "print()\n",
    "\n",
    "for name, value in evaluation.items():\n",
    "  print(f\"{name}: {value:.4f}\")"
   ]
  },
  {
   "cell_type": "code",
   "execution_count": null,
   "id": "3c81184b-b3c6-475b-aa48-8783080efb4d",
   "metadata": {
    "tags": []
   },
   "outputs": [],
   "source": [
    "tfdf.model_plotter.plot_model_in_colab(model_1, tree_idx=0, max_depth=4)"
   ]
  },
  {
   "cell_type": "code",
   "execution_count": null,
   "id": "f3927356-621e-4e95-889b-7bef5c460044",
   "metadata": {},
   "outputs": [],
   "source": [
    "model_1.summary()"
   ]
  },
  {
   "cell_type": "code",
   "execution_count": null,
   "id": "553a2a61-b8be-421f-b0a1-41c5d6c2ce55",
   "metadata": {},
   "outputs": [],
   "source": []
  }
 ],
 "metadata": {
  "kernelspec": {
   "display_name": "Python 3 (ipykernel)",
   "language": "python",
   "name": "python3"
  },
  "language_info": {
   "codemirror_mode": {
    "name": "ipython",
    "version": 3
   },
   "file_extension": ".py",
   "mimetype": "text/x-python",
   "name": "python",
   "nbconvert_exporter": "python",
   "pygments_lexer": "ipython3",
   "version": "3.12.4"
  }
 },
 "nbformat": 4,
 "nbformat_minor": 5
}
