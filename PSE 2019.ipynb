{
 "cells": [
  {
   "cell_type": "code",
   "execution_count": 1,
   "id": "c61faf19-b617-4415-bd5d-43a942d2b67c",
   "metadata": {},
   "outputs": [
    {
     "name": "stderr",
     "output_type": "stream",
     "text": [
      "/Users/krzysztofwasniewski/opt/anaconda3/lib/python3.8/site-packages/scipy/__init__.py:138: UserWarning: A NumPy version >=1.16.5 and <1.23.0 is required for this version of SciPy (detected version 1.23.0)\n",
      "  warnings.warn(f\"A NumPy version >={np_minversion} and <{np_maxversion} is required for this version of \"\n"
     ]
    }
   ],
   "source": [
    "import numpy as np\n",
    "import pandas as pd\n",
    "import os\n",
    "import math\n",
    "import matplotlib.pyplot as plt\n",
    "import seaborn as sns"
   ]
  },
  {
   "cell_type": "code",
   "execution_count": 2,
   "id": "51ec9c3b-621b-46df-9d71-0e06e7c68218",
   "metadata": {},
   "outputs": [],
   "source": [
    "os.chdir('/Users/krzysztofwasniewski/Desktop/grant innowacyjność/Geografia energetyki rozproszonej SGH OPUS Jesień 2023/PSE 2019')"
   ]
  },
  {
   "cell_type": "code",
   "execution_count": 3,
   "id": "9b7b82d9-e767-4f18-8bee-81ccba71864c",
   "metadata": {},
   "outputs": [
    {
     "data": {
      "text/plain": [
       "['PL_BPKD_20190601_20190630_20190630232315.csv',\n",
       " 'PL_BPKD_20190101_20190131_20190131230253.csv',\n",
       " 'BPKD 2019 korelacje.xlsx',\n",
       " '.DS_Store',\n",
       " 'PL_BPKD_20190901_20190930_20190930224458.csv',\n",
       " 'BPKD_2019_Opis.xlsx',\n",
       " 'PL_BPKD_20190801_20190831_20190831223032.csv',\n",
       " 'PL_BPKD_20191001_20191031_20191031232056.csv',\n",
       " 'PL_BPKD_20190701_20190731_20190731231441.csv',\n",
       " 'PL_BPKD_20190401_20190430_20190430230354.csv',\n",
       " 'PL_BPKD_20190301_20190331_20190331223915.csv',\n",
       " 'PL_BPKD_20191201_20191231_20191231233404.csv',\n",
       " 'BPKD_2019_Opis miesiącami.xlsx',\n",
       " 'PL_BPKD_20190501_20190531_20190531224117.csv',\n",
       " 'BPKD_2019_Opis godzinami.xlsx',\n",
       " 'PL_BPKD_20190201_20190228_20190228230430.csv',\n",
       " 'PL_BPKD_20191101_20191130_20191130222229.csv',\n",
       " 'Zasoby_wytworcze_2019.pdf']"
      ]
     },
     "execution_count": 3,
     "metadata": {},
     "output_type": "execute_result"
    }
   ],
   "source": [
    "os.listdir()"
   ]
  },
  {
   "cell_type": "code",
   "execution_count": 4,
   "id": "28b077f3-d128-4043-b18c-82c4e8860336",
   "metadata": {},
   "outputs": [],
   "source": [
    "BPKD_06_2019=pd.DataFrame(pd.read_csv('PL_BPKD_20190601_20190630_20190630232315.csv',sep=';',header='infer'))\n",
    "BPKD_06_2019.insert(0,\"Month\",201906)\n",
    "\n",
    "BPKD_01_2019=pd.DataFrame(pd.read_csv('PL_BPKD_20190101_20190131_20190131230253.csv',sep=';',header='infer'))\n",
    "BPKD_01_2019.insert(0,\"Month\",201901)\n",
    "\n",
    "BPKD_09_2019=pd.DataFrame(pd.read_csv('PL_BPKD_20190901_20190930_20190930224458.csv',sep=';',header='infer'))\n",
    "BPKD_09_2019.insert(0,\"Month\",201909)\n",
    "\n",
    "BPKD_08_2019=pd.DataFrame(pd.read_csv('PL_BPKD_20190801_20190831_20190831223032.csv',sep=';',header='infer'))\n",
    "BPKD_08_2019.insert(0,\"Month\",201908)\n",
    "\n",
    "BPKD_10_2019=pd.DataFrame(pd.read_csv('PL_BPKD_20191001_20191031_20191031232056.csv',sep=';',header='infer'))\n",
    "BPKD_10_2019.insert(0,\"Month\",201910)\n",
    "\n",
    "BPKD_07_2019=pd.DataFrame(pd.read_csv('PL_BPKD_20190701_20190731_20190731231441.csv',sep=';',header='infer'))\n",
    "BPKD_07_2019.insert(0,\"Month\",201907)\n",
    "\n",
    "BPKD_04_2019=pd.DataFrame(pd.read_csv('PL_BPKD_20190401_20190430_20190430230354.csv',sep=';',header='infer'))\n",
    "BPKD_04_2019.insert(0,\"Month\",201904)\n",
    "\n",
    "BPKD_03_2019=pd.DataFrame(pd.read_csv('PL_BPKD_20190301_20190331_20190331223915.csv',sep=';',header='infer'))\n",
    "BPKD_03_2019.insert(0,\"Month\",201903)\n",
    "\n",
    "BPKD_12_2019=pd.DataFrame(pd.read_csv('PL_BPKD_20191201_20191231_20191231233404.csv',sep=';',header='infer'))\n",
    "BPKD_12_2019.insert(0,\"Month\",201912)\n",
    "\n",
    "BPKD_05_2019=pd.DataFrame(pd.read_csv('PL_BPKD_20190501_20190531_20190531224117.csv',sep=';',header='infer'))\n",
    "BPKD_05_2019.insert(0,\"Month\",201905)\n",
    "\n",
    "BPKD_02_2019=pd.DataFrame(pd.read_csv('PL_BPKD_20190201_20190228_20190228230430.csv',sep=';',header='infer'))\n",
    "BPKD_02_2019.insert(0,\"Month\",201902)\n",
    "\n",
    "BPKD_11_2019=pd.DataFrame(pd.read_csv('PL_BPKD_20191101_20191130_20191130222229.csv',sep=';',header='infer'))\n",
    "BPKD_11_2019.insert(0,\"Month\",201911)"
   ]
  },
  {
   "cell_type": "code",
   "execution_count": 5,
   "id": "fbf3baf1-515c-4a7d-923c-ee5d70319b83",
   "metadata": {},
   "outputs": [],
   "source": [
    "BPKD_2019=pd.concat([BPKD_01_2019,BPKD_02_2019,BPKD_03_2019,BPKD_04_2019,BPKD_05_2019,BPKD_06_2019,BPKD_07_2019,\n",
    "                    BPKD_08_2019,BPKD_09_2019,BPKD_10_2019,BPKD_11_2019,BPKD_12_2019])"
   ]
  },
  {
   "cell_type": "code",
   "execution_count": 6,
   "id": "5eba5f90-92fa-497c-a889-d60aa7c3d190",
   "metadata": {},
   "outputs": [],
   "source": [
    "BPKD_2019.groupby('Month').describe().to_excel('BPKD_2019_Opis miesiącami.xlsx')\n",
    "BPKD_2019.groupby('Godzina').describe().to_excel('BPKD_2019_Opis godzinami.xlsx')\n",
    "BPKD_2019.groupby('Month').sum().to_excel('BPKD_2019_Suma miesiącami.xlsx')"
   ]
  },
  {
   "cell_type": "code",
   "execution_count": 7,
   "id": "a5474727-4e49-4db1-8d87-cab08c46cc60",
   "metadata": {},
   "outputs": [],
   "source": [
    "BPKD_2019_correl=pd.DataFrame(BPKD_2019.corr(method='pearson'))\n",
    "BPKD_2019_correl.to_excel('BPKD 2019 korelacje.xlsx')"
   ]
  }
 ],
 "metadata": {
  "kernelspec": {
   "display_name": "Python 3",
   "language": "python",
   "name": "python3"
  },
  "language_info": {
   "codemirror_mode": {
    "name": "ipython",
    "version": 3
   },
   "file_extension": ".py",
   "mimetype": "text/x-python",
   "name": "python",
   "nbconvert_exporter": "python",
   "pygments_lexer": "ipython3",
   "version": "3.8.8"
  }
 },
 "nbformat": 4,
 "nbformat_minor": 5
}
