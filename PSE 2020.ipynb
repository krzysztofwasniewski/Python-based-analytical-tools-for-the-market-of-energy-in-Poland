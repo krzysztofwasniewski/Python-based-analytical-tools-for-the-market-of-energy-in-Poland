{
 "cells": [
  {
   "cell_type": "code",
   "execution_count": 1,
   "id": "f6fb290e-2f86-4238-8be2-2f336924daf9",
   "metadata": {},
   "outputs": [
    {
     "name": "stderr",
     "output_type": "stream",
     "text": [
      "/Users/krzysztofwasniewski/opt/anaconda3/lib/python3.8/site-packages/scipy/__init__.py:138: UserWarning: A NumPy version >=1.16.5 and <1.23.0 is required for this version of SciPy (detected version 1.23.0)\n",
      "  warnings.warn(f\"A NumPy version >={np_minversion} and <{np_maxversion} is required for this version of \"\n"
     ]
    }
   ],
   "source": [
    "import numpy as np\n",
    "import pandas as pd\n",
    "import os\n",
    "import math\n",
    "import matplotlib.pyplot as plt\n",
    "import seaborn as sns"
   ]
  },
  {
   "cell_type": "code",
   "execution_count": 2,
   "id": "f30f924f-1c37-4228-89ef-f0d632005537",
   "metadata": {},
   "outputs": [],
   "source": [
    "os.chdir('/Users/krzysztofwasniewski/Desktop/grant innowacyjność/Geografia energetyki rozproszonej SGH OPUS Jesień 2023/PSE 2020')"
   ]
  },
  {
   "cell_type": "code",
   "execution_count": 3,
   "id": "89af5e3e-cc27-4964-bd49-ab30090e6420",
   "metadata": {},
   "outputs": [
    {
     "data": {
      "text/plain": [
       "['PL_BPKD_20200101_20200131_20200131225536.csv',\n",
       " 'PL_BPKD_20201001_20201031_20201031231534.csv',\n",
       " 'BPKD_2020_Opis godzinami.xlsx',\n",
       " 'PL_BPKD_20201201_20201231_20201231230814.csv',\n",
       " 'PL_BPKD_20200201_20200229_20200229232228.csv',\n",
       " 'PL_BPKD_20200301_20200331_20200331232132.csv',\n",
       " 'BPKD_2020_Opis miesiącami.xlsx',\n",
       " 'PL_BPKD_20200801_20200831_20200831225659.csv',\n",
       " 'BPKD_2020_Opis.xlsx',\n",
       " 'PL_BPKD_20201101_20201130_20201130231548.csv',\n",
       " 'BPKD 2020 korelacje.xlsx',\n",
       " 'PL_BPKD_20200401_20200430_20200601112851.csv',\n",
       " 'PL_BPKD_20200601_20200630_20200630230305.csv',\n",
       " 'PL_BPKD_20200901_20200930_20200930230628.csv',\n",
       " 'PL_BPKD_20200501_20200531_20200601120653.csv',\n",
       " 'PL_BPKD_20200701_20200731_20200731235523.csv']"
      ]
     },
     "execution_count": 3,
     "metadata": {},
     "output_type": "execute_result"
    }
   ],
   "source": [
    "os.listdir()"
   ]
  },
  {
   "cell_type": "code",
   "execution_count": 4,
   "id": "9ac893f6-9de9-4451-b798-13f3202e4ef0",
   "metadata": {},
   "outputs": [],
   "source": [
    "BPKD_01_2020=pd.DataFrame(pd.read_csv('PL_BPKD_20200101_20200131_20200131225536.csv',sep=';',header='infer'))\n",
    "BPKD_01_2020.insert(0,\"Month\",202001)\n",
    "\n",
    "BPKD_10_2020=pd.DataFrame(pd.read_csv('PL_BPKD_20201001_20201031_20201031231534.csv',sep=';',header='infer'))\n",
    "BPKD_10_2020.insert(0,\"Month\",202010)\n",
    "\n",
    "BPKD_12_2020=pd.DataFrame(pd.read_csv('PL_BPKD_20201201_20201231_20201231230814.csv',sep=';',header='infer'))\n",
    "BPKD_12_2020.insert(0,\"Month\",202012)\n",
    "\n",
    "BPKD_02_2020=pd.DataFrame(pd.read_csv('PL_BPKD_20200201_20200229_20200229232228.csv',sep=';',header='infer'))\n",
    "BPKD_02_2020.insert(0,\"Month\",202002)\n",
    "\n",
    "BPKD_03_2020=pd.DataFrame(pd.read_csv('PL_BPKD_20200301_20200331_20200331232132.csv',sep=';',header='infer'))\n",
    "BPKD_03_2020.insert(0,\"Month\",202003)\n",
    "\n",
    "BPKD_08_2020=pd.DataFrame(pd.read_csv('PL_BPKD_20200801_20200831_20200831225659.csv',sep=';',header='infer'))\n",
    "BPKD_08_2020.insert(0,\"Month\",202008)\n",
    "\n",
    "BPKD_11_2020=pd.DataFrame(pd.read_csv('PL_BPKD_20201101_20201130_20201130231548.csv',sep=';',header='infer'))\n",
    "BPKD_11_2020.insert(0,\"Month\",202011)\n",
    "\n",
    "BPKD_04_2020=pd.DataFrame(pd.read_csv('PL_BPKD_20200401_20200430_20200601112851.csv',sep=';',header='infer'))\n",
    "BPKD_04_2020.insert(0,\"Month\",202004)\n",
    "\n",
    "BPKD_06_2020=pd.DataFrame(pd.read_csv('PL_BPKD_20200601_20200630_20200630230305.csv',sep=';',header='infer'))\n",
    "BPKD_06_2020.insert(0,\"Month\",202006)\n",
    "\n",
    "BPKD_09_2020=pd.DataFrame(pd.read_csv('PL_BPKD_20200901_20200930_20200930230628.csv',sep=';',header='infer'))\n",
    "BPKD_09_2020.insert(0,\"Month\",202009)\n",
    "\n",
    "BPKD_05_2020=pd.DataFrame(pd.read_csv('PL_BPKD_20200501_20200531_20200601120653.csv',sep=';',header='infer'))\n",
    "BPKD_05_2020.insert(0,\"Month\",202005)\n",
    "\n",
    "BPKD_07_2020=pd.DataFrame(pd.read_csv('PL_BPKD_20200701_20200731_20200731235523.csv',sep=';',header='infer'))\n",
    "BPKD_07_2020.insert(0,\"Month\",202007)"
   ]
  },
  {
   "cell_type": "code",
   "execution_count": 5,
   "id": "f814152a-e75b-4e77-954f-84dccaed95aa",
   "metadata": {},
   "outputs": [],
   "source": [
    "BPKD_2020=pd.concat([BPKD_01_2020,BPKD_02_2020,BPKD_03_2020,BPKD_04_2020,BPKD_04_2020,BPKD_05_2020,BPKD_06_2020,\n",
    "                    BPKD_07_2020,BPKD_08_2020,BPKD_09_2020,BPKD_10_2020,BPKD_11_2020,BPKD_12_2020])"
   ]
  },
  {
   "cell_type": "code",
   "execution_count": 6,
   "id": "d43994a8-a81a-4457-8578-a58f1fe19345",
   "metadata": {},
   "outputs": [],
   "source": [
    "BPKD_2020.groupby('Month').describe().to_excel('BPKD_2020_Opis miesiącami.xlsx')\n",
    "BPKD_2020.groupby('Godzina').describe().to_excel('BPKD_2020_Opis godzinami.xlsx')\n",
    "BPKD_2020.groupby('Month').sum().to_excel('BPKD_2020_Suma miesiącami.xlsx')"
   ]
  },
  {
   "cell_type": "code",
   "execution_count": 7,
   "id": "ce88af87-024f-4444-a5d1-bef076eb8abe",
   "metadata": {},
   "outputs": [],
   "source": [
    "BPKD_2020_correl=pd.DataFrame(BPKD_2020.corr(method='pearson'))\n",
    "BPKD_2020_correl.to_excel('BPKD 2020 korelacje.xlsx')"
   ]
  }
 ],
 "metadata": {
  "kernelspec": {
   "display_name": "Python 3",
   "language": "python",
   "name": "python3"
  },
  "language_info": {
   "codemirror_mode": {
    "name": "ipython",
    "version": 3
   },
   "file_extension": ".py",
   "mimetype": "text/x-python",
   "name": "python",
   "nbconvert_exporter": "python",
   "pygments_lexer": "ipython3",
   "version": "3.8.8"
  }
 },
 "nbformat": 4,
 "nbformat_minor": 5
}
