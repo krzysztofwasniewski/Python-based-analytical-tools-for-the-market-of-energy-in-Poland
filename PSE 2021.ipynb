{
 "cells": [
  {
   "cell_type": "code",
   "execution_count": 1,
   "id": "cab4fd41-9053-42ea-8e34-0368bc43cccf",
   "metadata": {},
   "outputs": [],
   "source": [
    "import numpy as np\n",
    "import pandas as pd\n",
    "import os\n",
    "import math\n",
    "import matplotlib.pyplot as plt\n",
    "import seaborn as sns"
   ]
  },
  {
   "cell_type": "code",
   "execution_count": 2,
   "id": "b3ed71ab-81dd-49d1-ac58-df84588cb04a",
   "metadata": {},
   "outputs": [
    {
     "name": "stdout",
     "output_type": "stream",
     "text": [
      "Requirement already satisfied: tensorflow_decision_forests in /Users/krzysztofwasniewski/opt/anaconda3/lib/python3.8/site-packages (1.5.0)\n",
      "Requirement already satisfied: pandas in /Users/krzysztofwasniewski/opt/anaconda3/lib/python3.8/site-packages (from tensorflow_decision_forests) (1.2.4)\n",
      "Requirement already satisfied: tensorflow~=2.13.0 in /Users/krzysztofwasniewski/opt/anaconda3/lib/python3.8/site-packages (from tensorflow_decision_forests) (2.13.1)\n",
      "Requirement already satisfied: numpy in /Users/krzysztofwasniewski/opt/anaconda3/lib/python3.8/site-packages (from tensorflow_decision_forests) (1.22.4)\n",
      "Requirement already satisfied: absl-py in /Users/krzysztofwasniewski/opt/anaconda3/lib/python3.8/site-packages (from tensorflow_decision_forests) (2.0.0)\n",
      "Requirement already satisfied: wurlitzer in /Users/krzysztofwasniewski/opt/anaconda3/lib/python3.8/site-packages (from tensorflow_decision_forests) (2.1.0)\n",
      "Requirement already satisfied: six in /Users/krzysztofwasniewski/opt/anaconda3/lib/python3.8/site-packages (from tensorflow_decision_forests) (1.15.0)\n",
      "Requirement already satisfied: wheel in /Users/krzysztofwasniewski/opt/anaconda3/lib/python3.8/site-packages (from tensorflow_decision_forests) (0.36.2)\n",
      "Requirement already satisfied: tensorboard<2.14,>=2.13 in /Users/krzysztofwasniewski/opt/anaconda3/lib/python3.8/site-packages (from tensorflow~=2.13.0->tensorflow_decision_forests) (2.13.0)\n",
      "Requirement already satisfied: h5py>=2.9.0 in /Users/krzysztofwasniewski/opt/anaconda3/lib/python3.8/site-packages (from tensorflow~=2.13.0->tensorflow_decision_forests) (2.10.0)\n",
      "Requirement already satisfied: keras<2.14,>=2.13.1 in /Users/krzysztofwasniewski/opt/anaconda3/lib/python3.8/site-packages (from tensorflow~=2.13.0->tensorflow_decision_forests) (2.13.1)\n",
      "Requirement already satisfied: opt-einsum>=2.3.2 in /Users/krzysztofwasniewski/opt/anaconda3/lib/python3.8/site-packages (from tensorflow~=2.13.0->tensorflow_decision_forests) (3.3.0)\n",
      "Requirement already satisfied: termcolor>=1.1.0 in /Users/krzysztofwasniewski/opt/anaconda3/lib/python3.8/site-packages (from tensorflow~=2.13.0->tensorflow_decision_forests) (2.3.0)\n",
      "Requirement already satisfied: astunparse>=1.6.0 in /Users/krzysztofwasniewski/opt/anaconda3/lib/python3.8/site-packages (from tensorflow~=2.13.0->tensorflow_decision_forests) (1.6.3)\n",
      "Requirement already satisfied: tensorflow-estimator<2.14,>=2.13.0 in /Users/krzysztofwasniewski/opt/anaconda3/lib/python3.8/site-packages (from tensorflow~=2.13.0->tensorflow_decision_forests) (2.13.0)\n",
      "Requirement already satisfied: libclang>=13.0.0 in /Users/krzysztofwasniewski/opt/anaconda3/lib/python3.8/site-packages (from tensorflow~=2.13.0->tensorflow_decision_forests) (16.0.6)\n",
      "Requirement already satisfied: wrapt>=1.11.0 in /Users/krzysztofwasniewski/opt/anaconda3/lib/python3.8/site-packages (from tensorflow~=2.13.0->tensorflow_decision_forests) (1.12.1)\n",
      "Requirement already satisfied: flatbuffers>=23.1.21 in /Users/krzysztofwasniewski/opt/anaconda3/lib/python3.8/site-packages (from tensorflow~=2.13.0->tensorflow_decision_forests) (23.5.26)\n",
      "Requirement already satisfied: grpcio<2.0,>=1.24.3 in /Users/krzysztofwasniewski/opt/anaconda3/lib/python3.8/site-packages (from tensorflow~=2.13.0->tensorflow_decision_forests) (1.59.2)\n",
      "Requirement already satisfied: tensorflow-io-gcs-filesystem>=0.23.1 in /Users/krzysztofwasniewski/opt/anaconda3/lib/python3.8/site-packages (from tensorflow~=2.13.0->tensorflow_decision_forests) (0.34.0)\n",
      "Requirement already satisfied: typing-extensions<4.6.0,>=3.6.6 in /Users/krzysztofwasniewski/opt/anaconda3/lib/python3.8/site-packages (from tensorflow~=2.13.0->tensorflow_decision_forests) (3.7.4.3)\n",
      "Requirement already satisfied: protobuf!=4.21.0,!=4.21.1,!=4.21.2,!=4.21.3,!=4.21.4,!=4.21.5,<5.0.0dev,>=3.20.3 in /Users/krzysztofwasniewski/opt/anaconda3/lib/python3.8/site-packages (from tensorflow~=2.13.0->tensorflow_decision_forests) (4.25.0)\n",
      "Requirement already satisfied: google-pasta>=0.1.1 in /Users/krzysztofwasniewski/opt/anaconda3/lib/python3.8/site-packages (from tensorflow~=2.13.0->tensorflow_decision_forests) (0.2.0)\n",
      "Requirement already satisfied: gast<=0.4.0,>=0.2.1 in /Users/krzysztofwasniewski/opt/anaconda3/lib/python3.8/site-packages (from tensorflow~=2.13.0->tensorflow_decision_forests) (0.4.0)\n",
      "Requirement already satisfied: packaging in /Users/krzysztofwasniewski/opt/anaconda3/lib/python3.8/site-packages (from tensorflow~=2.13.0->tensorflow_decision_forests) (20.9)\n",
      "Requirement already satisfied: setuptools in /Users/krzysztofwasniewski/opt/anaconda3/lib/python3.8/site-packages (from tensorflow~=2.13.0->tensorflow_decision_forests) (52.0.0.post20210125)\n",
      "Requirement already satisfied: requests<3,>=2.21.0 in /Users/krzysztofwasniewski/opt/anaconda3/lib/python3.8/site-packages (from tensorboard<2.14,>=2.13->tensorflow~=2.13.0->tensorflow_decision_forests) (2.25.1)\n",
      "Requirement already satisfied: google-auth<3,>=1.6.3 in /Users/krzysztofwasniewski/opt/anaconda3/lib/python3.8/site-packages (from tensorboard<2.14,>=2.13->tensorflow~=2.13.0->tensorflow_decision_forests) (2.23.4)\n",
      "Requirement already satisfied: markdown>=2.6.8 in /Users/krzysztofwasniewski/opt/anaconda3/lib/python3.8/site-packages (from tensorboard<2.14,>=2.13->tensorflow~=2.13.0->tensorflow_decision_forests) (3.5.1)\n",
      "Requirement already satisfied: google-auth-oauthlib<1.1,>=0.5 in /Users/krzysztofwasniewski/opt/anaconda3/lib/python3.8/site-packages (from tensorboard<2.14,>=2.13->tensorflow~=2.13.0->tensorflow_decision_forests) (1.0.0)\n",
      "Requirement already satisfied: tensorboard-data-server<0.8.0,>=0.7.0 in /Users/krzysztofwasniewski/opt/anaconda3/lib/python3.8/site-packages (from tensorboard<2.14,>=2.13->tensorflow~=2.13.0->tensorflow_decision_forests) (0.7.2)\n",
      "Requirement already satisfied: werkzeug>=1.0.1 in /Users/krzysztofwasniewski/opt/anaconda3/lib/python3.8/site-packages (from tensorboard<2.14,>=2.13->tensorflow~=2.13.0->tensorflow_decision_forests) (1.0.1)\n",
      "Requirement already satisfied: cachetools<6.0,>=2.0.0 in /Users/krzysztofwasniewski/opt/anaconda3/lib/python3.8/site-packages (from google-auth<3,>=1.6.3->tensorboard<2.14,>=2.13->tensorflow~=2.13.0->tensorflow_decision_forests) (5.2.0)\n",
      "Requirement already satisfied: pyasn1-modules>=0.2.1 in /Users/krzysztofwasniewski/opt/anaconda3/lib/python3.8/site-packages (from google-auth<3,>=1.6.3->tensorboard<2.14,>=2.13->tensorflow~=2.13.0->tensorflow_decision_forests) (0.3.0)\n",
      "Requirement already satisfied: rsa<5,>=3.1.4 in /Users/krzysztofwasniewski/opt/anaconda3/lib/python3.8/site-packages (from google-auth<3,>=1.6.3->tensorboard<2.14,>=2.13->tensorflow~=2.13.0->tensorflow_decision_forests) (4.9)\n",
      "Requirement already satisfied: requests-oauthlib>=0.7.0 in /Users/krzysztofwasniewski/opt/anaconda3/lib/python3.8/site-packages (from google-auth-oauthlib<1.1,>=0.5->tensorboard<2.14,>=2.13->tensorflow~=2.13.0->tensorflow_decision_forests) (1.3.1)\n",
      "Requirement already satisfied: importlib-metadata>=4.4 in /Users/krzysztofwasniewski/opt/anaconda3/lib/python3.8/site-packages (from markdown>=2.6.8->tensorboard<2.14,>=2.13->tensorflow~=2.13.0->tensorflow_decision_forests) (6.8.0)\n",
      "Requirement already satisfied: zipp>=0.5 in /Users/krzysztofwasniewski/opt/anaconda3/lib/python3.8/site-packages (from importlib-metadata>=4.4->markdown>=2.6.8->tensorboard<2.14,>=2.13->tensorflow~=2.13.0->tensorflow_decision_forests) (3.4.1)\n",
      "Requirement already satisfied: pyasn1<0.6.0,>=0.4.6 in /Users/krzysztofwasniewski/opt/anaconda3/lib/python3.8/site-packages (from pyasn1-modules>=0.2.1->google-auth<3,>=1.6.3->tensorboard<2.14,>=2.13->tensorflow~=2.13.0->tensorflow_decision_forests) (0.5.0)\n",
      "Requirement already satisfied: chardet<5,>=3.0.2 in /Users/krzysztofwasniewski/opt/anaconda3/lib/python3.8/site-packages (from requests<3,>=2.21.0->tensorboard<2.14,>=2.13->tensorflow~=2.13.0->tensorflow_decision_forests) (4.0.0)\n",
      "Requirement already satisfied: certifi>=2017.4.17 in /Users/krzysztofwasniewski/opt/anaconda3/lib/python3.8/site-packages (from requests<3,>=2.21.0->tensorboard<2.14,>=2.13->tensorflow~=2.13.0->tensorflow_decision_forests) (2020.12.5)\n",
      "Requirement already satisfied: urllib3<1.27,>=1.21.1 in /Users/krzysztofwasniewski/opt/anaconda3/lib/python3.8/site-packages (from requests<3,>=2.21.0->tensorboard<2.14,>=2.13->tensorflow~=2.13.0->tensorflow_decision_forests) (1.26.4)\n",
      "Requirement already satisfied: idna<3,>=2.5 in /Users/krzysztofwasniewski/opt/anaconda3/lib/python3.8/site-packages (from requests<3,>=2.21.0->tensorboard<2.14,>=2.13->tensorflow~=2.13.0->tensorflow_decision_forests) (2.10)\n",
      "Requirement already satisfied: oauthlib>=3.0.0 in /Users/krzysztofwasniewski/opt/anaconda3/lib/python3.8/site-packages (from requests-oauthlib>=0.7.0->google-auth-oauthlib<1.1,>=0.5->tensorboard<2.14,>=2.13->tensorflow~=2.13.0->tensorflow_decision_forests) (3.2.2)\n",
      "Requirement already satisfied: pyparsing>=2.0.2 in /Users/krzysztofwasniewski/opt/anaconda3/lib/python3.8/site-packages (from packaging->tensorflow~=2.13.0->tensorflow_decision_forests) (2.4.7)\n",
      "Requirement already satisfied: python-dateutil>=2.7.3 in /Users/krzysztofwasniewski/opt/anaconda3/lib/python3.8/site-packages (from pandas->tensorflow_decision_forests) (2.8.1)\n",
      "Requirement already satisfied: pytz>=2017.3 in /Users/krzysztofwasniewski/opt/anaconda3/lib/python3.8/site-packages (from pandas->tensorflow_decision_forests) (2021.1)\n",
      "Note: you may need to restart the kernel to use updated packages.\n"
     ]
    }
   ],
   "source": [
    "pip install tensorflow_decision_forests"
   ]
  },
  {
   "cell_type": "code",
   "execution_count": 3,
   "id": "e4e0ad74-9833-4148-90a7-7e06fe81e849",
   "metadata": {},
   "outputs": [
    {
     "name": "stderr",
     "output_type": "stream",
     "text": [
      "WARNING:root:TensorFlow Decision Forests 1.5.0 is compatible with the following TensorFlow Versions: ['2.13.0']. However, TensorFlow 2.13.1 was detected. This can cause issues with the TF API and symbols in the custom C++ ops. See the TF and TF-DF compatibility table at https://github.com/tensorflow/decision-forests/blob/main/documentation/known_issues.md#compatibility-table.\n"
     ]
    }
   ],
   "source": [
    "import tensorflow as tf\n",
    "import tensorflow_decision_forests as tfdf"
   ]
  },
  {
   "cell_type": "code",
   "execution_count": 4,
   "id": "19fd8741-9885-49f1-a5cf-4ad31b5e9812",
   "metadata": {},
   "outputs": [],
   "source": [
    "os.chdir('/Users/krzysztofwasniewski/Desktop/grant innowacyjność/Geografia energetyki rozproszonej SGH OPUS Jesień 2023/PSE 2021')"
   ]
  },
  {
   "cell_type": "code",
   "execution_count": 5,
   "id": "3588db1c-3dc4-4cd5-8079-47473ae06e23",
   "metadata": {},
   "outputs": [
    {
     "data": {
      "text/plain": [
       "['BPKD_2021_Opis godzinami.xlsx',\n",
       " 'PL_CENY_RYN_EN_20211201_20211231_20211230153118.csv',\n",
       " 'BPKD_2021_Suma miesiącami.xlsx',\n",
       " 'PL_CENY_RYN_EN_20210301_20210331_20210330153146.csv',\n",
       " 'PL_BPKD_20210101_20210131_20210609093928.csv',\n",
       " 'PL_BPKD_20210901_20210930_20210930230119.csv',\n",
       " 'PL_CENY_RYN_EN_20210601_20210630_20210629153122.xlsx',\n",
       " 'PL_BPKD_20211001_20211031_20211031231035.csv',\n",
       " 'PL_CENY_RYN_EN_20210801_20210831_20210830153135.csv',\n",
       " '.DS_Store',\n",
       " 'PL_CENY_RYN_EN_20210601_20210630_20210629153122.csv',\n",
       " 'BPKD_2021_Opis.xlsx',\n",
       " 'PL_CENY_RYN_EN_20211001_20211031_20211030153118.xlsx',\n",
       " 'PL_BPKD_20211201_20211231_20211231231834.csv',\n",
       " 'PL_CENY_RYN_EN_20210701_20210731_20210730153118.csv',\n",
       " 'PL_CENY_RYN_EN_20210801_20210831_20210830153135.xlsx',\n",
       " 'PL_CENY_RYN_EN_20210201_20210228_20210227153131.xlsx',\n",
       " 'PL_CENY_RYN_EN_20211101_20211130_20211129153130.xlsx',\n",
       " 'PL_CENY_RYN_EN_20210301_20210331_20210330153146.xlsx',\n",
       " 'PL_BPKD_20210501_20210531_20210531231552.csv',\n",
       " 'PL_CENY_RYN_EN_20211201_20211231_20211230153118.xlsx',\n",
       " 'Ceny_2021_miesiącami.xlsx',\n",
       " 'PL_BPKD_20210601_20210630_20210630232330.csv',\n",
       " 'PL_CENY_RYN_EN_20210401_20210430_20210429153119.xlsx',\n",
       " 'PL_CENY_RYN_EN_20210901_20210930_20210929153123.csv',\n",
       " 'PL_CENY_RYN_EN_20210101_20210131_20210130134731.xlsx',\n",
       " 'PL_CENY_RYN_EN_20211101_20211130_20211129153130.csv',\n",
       " 'PL_CENY_RYN_EN_20210201_20210228_20210227153131.csv',\n",
       " 'PL_BPKD_20211101_20211130_20211130233329.csv',\n",
       " 'PL_CENY_RYN_EN_20210901_20210930_20210929153123.xlsx',\n",
       " 'PL_BPKD_20210801_20210831_20210831232216.csv',\n",
       " 'PL_BPKD_20210401_20210430_20210430231149.csv',\n",
       " 'PL_CENY_RYN_EN_20210501_20210531_20210530153135.csv',\n",
       " 'BPKD 2021 korelacje.xlsx',\n",
       " 'BPKD_2021_Opis miesiącami.xlsx',\n",
       " 'PL_CENY_RYN_EN_20210501_20210531_20210530153135.xlsx',\n",
       " 'PL_CENY_RYN_EN_20210101_20210131_20210130134731.csv',\n",
       " 'PL_CENY_RYN_EN_20211001_20211031_20211030153118.csv',\n",
       " 'PL_CENY_RYN_EN_20210701_20210731_20210730153118.xlsx',\n",
       " 'PL_CENY_RYN_EN_20210401_20210430_20210429153119.csv',\n",
       " 'PL_BPKD_20210701_20210731_20210731222943.csv',\n",
       " 'PL_BPKD_20210201_20210228_20210228223525.csv',\n",
       " 'Ceny_2021.csv',\n",
       " 'BPKD_2021.csv',\n",
       " 'PL_BPKD_20210301_20210331_20210331231321.csv']"
      ]
     },
     "execution_count": 5,
     "metadata": {},
     "output_type": "execute_result"
    }
   ],
   "source": [
    "os.listdir()"
   ]
  },
  {
   "cell_type": "code",
   "execution_count": 6,
   "id": "a5a62f77-1d6d-4ed7-9771-3b61676ead64",
   "metadata": {},
   "outputs": [],
   "source": [
    "BPKD_01_2021=pd.DataFrame(pd.read_csv('PL_BPKD_20210101_20210131_20210609093928.csv',sep=';',header='infer'))\n",
    "BPKD_01_2021.insert(0,\"Month\",202101)\n",
    "\n",
    "BPKD_09_2021=pd.DataFrame(pd.read_csv('PL_BPKD_20210901_20210930_20210930230119.csv',sep=';',header='infer'))\n",
    "BPKD_09_2021.insert(0,\"Month\",202109)\n",
    "\n",
    "BPKD_10_2021=pd.DataFrame(pd.read_csv('PL_BPKD_20211001_20211031_20211031231035.csv',sep=';',header='infer'))\n",
    "BPKD_10_2021.insert(0,\"Month\",202110)\n",
    "\n",
    "BPKD_12_2021=pd.DataFrame(pd.read_csv('PL_BPKD_20211201_20211231_20211231231834.csv',sep=';',header='infer'))\n",
    "BPKD_12_2021.insert(0,\"Month\",202112)\n",
    "\n",
    "BPKD_05_2021=pd.DataFrame(pd.read_csv('PL_BPKD_20210501_20210531_20210531231552.csv',sep=';',header='infer'))\n",
    "BPKD_05_2021.insert(0,\"Month\",202105)\n",
    "\n",
    "BPKD_06_2021=pd.DataFrame(pd.read_csv('PL_BPKD_20210601_20210630_20210630232330.csv',sep=';',header='infer'))\n",
    "BPKD_06_2021.insert(0,\"Month\",202106)\n",
    "\n",
    "BPKD_11_2021=pd.DataFrame(pd.read_csv('PL_BPKD_20211101_20211130_20211130233329.csv',sep=';',header='infer'))\n",
    "BPKD_11_2021.insert(0,\"Month\",202111)\n",
    "\n",
    "BPKD_08_2021=pd.DataFrame(pd.read_csv('PL_BPKD_20210801_20210831_20210831232216.csv',sep=';',header='infer'))\n",
    "BPKD_08_2021.insert(0,\"Month\",202108)\n",
    "\n",
    "BPKD_04_2021=pd.DataFrame(pd.read_csv('PL_BPKD_20210401_20210430_20210430231149.csv',sep=';',header='infer'))\n",
    "BPKD_04_2021.insert(0,\"Month\",202104)\n",
    "\n",
    "BPKD_07_2021=pd.DataFrame(pd.read_csv('PL_BPKD_20210701_20210731_20210731222943.csv',sep=';',header='infer'))\n",
    "BPKD_07_2021.insert(0,\"Month\",202107)\n",
    "\n",
    "BPKD_02_2021=pd.DataFrame(pd.read_csv('PL_BPKD_20210201_20210228_20210228223525.csv',sep=';',header='infer'))\n",
    "BPKD_02_2021.insert(0,\"Month\",202102)\n",
    "\n",
    "BPKD_03_2021=pd.DataFrame(pd.read_csv('PL_BPKD_20210301_20210331_20210331231321.csv',sep=';',header='infer'))\n",
    "BPKD_03_2021.insert(0,\"Month\",202103)\n"
   ]
  },
  {
   "cell_type": "code",
   "execution_count": 7,
   "id": "8951e079-502f-4cc2-b964-c11bfbb196c2",
   "metadata": {},
   "outputs": [
    {
     "name": "stdout",
     "output_type": "stream",
     "text": [
      "<class 'pandas.core.frame.DataFrame'>\n",
      "Int64Index: 8760 entries, 0 to 8759\n",
      "Data columns (total 22 columns):\n",
      " #   Column                                                                                       Non-Null Count  Dtype \n",
      "---  ------                                                                                       --------------  ----- \n",
      " 0   Month                                                                                        8760 non-null   int64 \n",
      " 1   Godzina                                                                                      8760 non-null   object\n",
      " 2   Krajowe zapotrzebowanie na moc                                                               8760 non-null   int64 \n",
      " 3   Suma zdolno�ci wytw�rczych jednostek wytw�rczych w KSE                                       8760 non-null   int64 \n",
      " 4   Suma zdolno�ci wytw�rczych JGWa                                                              8760 non-null   int64 \n",
      " 5   Suma zdolno�ci wytw�rczych JGFWa                                                             8760 non-null   object\n",
      " 6   Suma zdolno�ci wytw�rczych JGMa                                                              8760 non-null   int64 \n",
      " 7   Suma zdolno�ci wytw�rczych JGPVa                                                             8760 non-null   object\n",
      " 8   Sumaryczna generacja JG aktywnych: JGWa, JGFWa, JGMa i JGPVa                                 8760 non-null   int64 \n",
      " 9   Sumaryczna generacja JGWa                                                                    8760 non-null   int64 \n",
      " 10  Sumaryczna generacja JGFWa                                                                   8760 non-null   object\n",
      " 11  Sumaryczna generacja JGMa                                                                    8760 non-null   int64 \n",
      " 12  Sumaryczna generacja JGPVa                                                                   8760 non-null   object\n",
      " 13  Sumaryczna generacja jednostek wytw�rczych nieuczestnicz�cych aktywnie w Rynku Bilansuj�cym  8760 non-null   int64 \n",
      " 14  Generacja �r�de� wiatrowych                                                                  8760 non-null   int64 \n",
      " 15  Generacja �r�de� fotowoltaicznych                                                            8760 non-null   int64 \n",
      " 16  Sumaryczna moc �adowania JGMa                                                                8760 non-null   object\n",
      " 17  Krajowe saldo wymiany mi�dzysystemowej r�wnoleg�ej                                           8760 non-null   int64 \n",
      " 18  Krajowe saldo wymiany mi�dzysystemowej nier�wnoleg�ej                                        8760 non-null   int64 \n",
      " 19  Rezerwa mocy ponad zapotrzebowanie                                                           8760 non-null   int64 \n",
      " 20  Rezerwa mocy poni�ej zapotrzebowania                                                         8760 non-null   int64 \n",
      " 21  Suma mocy z wykorzystanych Ofert Redukcji Obci��enia JGOa                                    8760 non-null   int64 \n",
      "dtypes: int64(16), object(6)\n",
      "memory usage: 1.5+ MB\n"
     ]
    }
   ],
   "source": [
    "BPKD_2021=pd.concat([BPKD_01_2021,BPKD_02_2021,BPKD_03_2021,BPKD_04_2021,BPKD_05_2021,BPKD_06_2021,BPKD_07_2021,\n",
    "                    BPKD_08_2021,BPKD_09_2021,BPKD_10_2021,BPKD_11_2021,BPKD_12_2021])\n",
    "BPKD_2021.to_csv('BPKD_2021.csv')\n",
    "BPKD_2021=pd.DataFrame(pd.read_csv('BPKD_2021.csv'))\n",
    "BPKD_2021.drop(['Unnamed: 0','Data'],axis=1,inplace=True)\n",
    "BPKD_2021=BPKD_2021.dropna()\n",
    "BPKD_2021.info()"
   ]
  },
  {
   "cell_type": "code",
   "execution_count": 8,
   "id": "19b07ead-322e-41d8-ba52-3b012a1be8ab",
   "metadata": {},
   "outputs": [],
   "source": [
    "BPKD_2021.groupby('Month').describe().to_excel('BPKD_2021_Opis miesiącami.xlsx')\n",
    "BPKD_2021.groupby('Godzina').describe().to_excel('BPKD_2021_Opis godzinami.xlsx')\n",
    "BPKD_2021.groupby('Month').sum().to_excel('BPKD_2021_Suma miesiącami.xlsx')\n",
    "BPKD_2021.to_csv('BPKD_2021.csv')"
   ]
  },
  {
   "cell_type": "code",
   "execution_count": 9,
   "id": "f47a8f21-0870-4f62-a645-afc21be340fb",
   "metadata": {
    "jupyter": {
     "source_hidden": true
    },
    "tags": []
   },
   "outputs": [],
   "source": [
    "BPKD_2021_correl=pd.DataFrame(BPKD_2021.corr(method='pearson'))\n",
    "BPKD_2021_correl.to_excel('BPKD 2021 korelacje.xlsx')"
   ]
  },
  {
   "cell_type": "code",
   "execution_count": 10,
   "id": "7595deed-785f-4816-b179-edf98861de2c",
   "metadata": {},
   "outputs": [],
   "source": [
    "Ceny_06_2021=pd.DataFrame(pd.read_excel('PL_CENY_RYN_EN_20210601_20210630_20210629153122.xlsx'))\n",
    "Ceny_06_2021.insert(0,\"Month\",202106)\n",
    "\n",
    "Ceny_10_2021=pd.DataFrame(pd.read_excel('PL_CENY_RYN_EN_20211001_20211031_20211030153118.xlsx'))\n",
    "Ceny_10_2021.insert(0,\"Month\",202110)\n",
    "\n",
    "Ceny_08_2021=pd.DataFrame(pd.read_excel('PL_CENY_RYN_EN_20210801_20210831_20210830153135.xlsx'))\n",
    "Ceny_08_2021.insert(0,\"Month\",202108)\n",
    "\n",
    "Ceny_02_2021=pd.DataFrame(pd.read_excel('PL_CENY_RYN_EN_20210201_20210228_20210227153131.xlsx'))\n",
    "Ceny_02_2021.insert(0,\"Month\",202102)\n",
    "\n",
    "Ceny_11_2021=pd.DataFrame(pd.read_excel('PL_CENY_RYN_EN_20211101_20211130_20211129153130.xlsx'))\n",
    "Ceny_11_2021.insert(0,\"Month\",202111)\n",
    "\n",
    "Ceny_03_2021=pd.DataFrame(pd.read_excel('PL_CENY_RYN_EN_20210301_20210331_20210330153146.xlsx'))\n",
    "Ceny_03_2021.insert(0,\"Month\",202103)\n",
    "\n",
    "Ceny_12_2021=pd.DataFrame(pd.read_excel('PL_CENY_RYN_EN_20211201_20211231_20211230153118.xlsx'))\n",
    "Ceny_12_2021.insert(0,\"Month\",202112)\n",
    "\n",
    "Ceny_04_2021=pd.DataFrame(pd.read_excel('PL_CENY_RYN_EN_20210401_20210430_20210429153119.xlsx'))\n",
    "Ceny_04_2021.insert(0,\"Month\",202104)\n",
    "\n",
    "Ceny_01_2021=pd.DataFrame(pd.read_excel('PL_CENY_RYN_EN_20210101_20210131_20210130134731.xlsx'))\n",
    "Ceny_01_2021.insert(0,\"Month\",202101)\n",
    "\n",
    "Ceny_09_2021=pd.DataFrame(pd.read_excel('PL_CENY_RYN_EN_20210901_20210930_20210929153123.xlsx'))\n",
    "Ceny_09_2021.insert(0,\"Month\",202109)\n",
    "\n",
    "Ceny_05_2021=pd.DataFrame(pd.read_excel('PL_CENY_RYN_EN_20210501_20210531_20210530153135.xlsx'))\n",
    "Ceny_05_2021.insert(0,\"Month\",202105)\n",
    "\n",
    "Ceny_07_2021=pd.DataFrame(pd.read_excel('PL_CENY_RYN_EN_20210701_20210731_20210730153118.xlsx'))\n",
    "Ceny_07_2021.insert(0,\"Month\",202107)"
   ]
  },
  {
   "cell_type": "code",
   "execution_count": 11,
   "id": "8de2068a-2b61-4a6a-a5e3-425b5fb4b55a",
   "metadata": {},
   "outputs": [
    {
     "name": "stdout",
     "output_type": "stream",
     "text": [
      "<class 'pandas.core.frame.DataFrame'>\n",
      "RangeIndex: 8760 entries, 0 to 8759\n",
      "Data columns (total 5 columns):\n",
      " #   Column      Non-Null Count  Dtype  \n",
      "---  ------      --------------  -----  \n",
      " 0   Unnamed: 0  8760 non-null   int64  \n",
      " 1   Month       8760 non-null   int64  \n",
      " 2   Data        8760 non-null   int64  \n",
      " 3   Godzina     8760 non-null   object \n",
      " 4   RCE         8760 non-null   float64\n",
      "dtypes: float64(1), int64(3), object(1)\n",
      "memory usage: 342.3+ KB\n"
     ]
    }
   ],
   "source": [
    "Ceny_2021=pd.concat([Ceny_01_2021, Ceny_02_2021, Ceny_03_2021, Ceny_04_2021, Ceny_05_2021, Ceny_06_2021,\n",
    "                    Ceny_07_2021, Ceny_08_2021, Ceny_09_2021, Ceny_10_2021, Ceny_11_2021, Ceny_12_2021])\n",
    "\n",
    "Ceny_2021.groupby('Month').describe().to_excel('Ceny_2021_miesiącami.xlsx')\n",
    "\n",
    "Ceny_2021.to_csv('Ceny_2021.csv')\n",
    "Ceny_2021=pd.DataFrame(pd.read_csv('Ceny_2021.csv'))\n",
    "Ceny_2021.info()"
   ]
  },
  {
   "cell_type": "code",
   "execution_count": 12,
   "id": "cf466633-d45f-4b4d-b3c3-94f481bef6e3",
   "metadata": {
    "jupyter": {
     "source_hidden": true
    },
    "tags": []
   },
   "outputs": [],
   "source": [
    "Ceny_2021.drop(['Unnamed: 0', 'Data'],axis=1,inplace=True)"
   ]
  },
  {
   "cell_type": "code",
   "execution_count": 13,
   "id": "1ab25ad9-46f1-414a-ac9a-9fa997f25e2f",
   "metadata": {},
   "outputs": [],
   "source": [
    "BPKD_2021_RCE=BPKD_2021.merge(Ceny_2021)"
   ]
  },
  {
   "cell_type": "code",
   "execution_count": 14,
   "id": "03964fc8-b888-4bec-b2a3-71a921e8a8eb",
   "metadata": {},
   "outputs": [
    {
     "ename": "KeyError",
     "evalue": "'Suma zdolnoœci wytwórczych jednostek wytwórczych w KSE'",
     "output_type": "error",
     "traceback": [
      "\u001b[0;31m---------------------------------------------------------------------------\u001b[0m",
      "\u001b[0;31mKeyError\u001b[0m                                  Traceback (most recent call last)",
      "\u001b[0;32m~/opt/anaconda3/lib/python3.8/site-packages/pandas/core/indexes/base.py\u001b[0m in \u001b[0;36mget_loc\u001b[0;34m(self, key, method, tolerance)\u001b[0m\n\u001b[1;32m   3079\u001b[0m             \u001b[0;32mtry\u001b[0m\u001b[0;34m:\u001b[0m\u001b[0;34m\u001b[0m\u001b[0;34m\u001b[0m\u001b[0m\n\u001b[0;32m-> 3080\u001b[0;31m                 \u001b[0;32mreturn\u001b[0m \u001b[0mself\u001b[0m\u001b[0;34m.\u001b[0m\u001b[0m_engine\u001b[0m\u001b[0;34m.\u001b[0m\u001b[0mget_loc\u001b[0m\u001b[0;34m(\u001b[0m\u001b[0mcasted_key\u001b[0m\u001b[0;34m)\u001b[0m\u001b[0;34m\u001b[0m\u001b[0;34m\u001b[0m\u001b[0m\n\u001b[0m\u001b[1;32m   3081\u001b[0m             \u001b[0;32mexcept\u001b[0m \u001b[0mKeyError\u001b[0m \u001b[0;32mas\u001b[0m \u001b[0merr\u001b[0m\u001b[0;34m:\u001b[0m\u001b[0;34m\u001b[0m\u001b[0;34m\u001b[0m\u001b[0m\n",
      "\u001b[0;32mpandas/_libs/index.pyx\u001b[0m in \u001b[0;36mpandas._libs.index.IndexEngine.get_loc\u001b[0;34m()\u001b[0m\n",
      "\u001b[0;32mpandas/_libs/index.pyx\u001b[0m in \u001b[0;36mpandas._libs.index.IndexEngine.get_loc\u001b[0;34m()\u001b[0m\n",
      "\u001b[0;32mpandas/_libs/hashtable_class_helper.pxi\u001b[0m in \u001b[0;36mpandas._libs.hashtable.PyObjectHashTable.get_item\u001b[0;34m()\u001b[0m\n",
      "\u001b[0;32mpandas/_libs/hashtable_class_helper.pxi\u001b[0m in \u001b[0;36mpandas._libs.hashtable.PyObjectHashTable.get_item\u001b[0;34m()\u001b[0m\n",
      "\u001b[0;31mKeyError\u001b[0m: 'Suma zdolnoœci wytwórczych jednostek wytwórczych w KSE'",
      "\nThe above exception was the direct cause of the following exception:\n",
      "\u001b[0;31mKeyError\u001b[0m                                  Traceback (most recent call last)",
      "\u001b[0;32m<ipython-input-14-b50c5bef9a15>\u001b[0m in \u001b[0;36m<module>\u001b[0;34m\u001b[0m\n\u001b[1;32m      3\u001b[0m \u001b[0mBPKD_2021_RCE\u001b[0m\u001b[0;34m[\u001b[0m\u001b[0;34m'Krajowe zapotrzebowanie na moc'\u001b[0m\u001b[0;34m]\u001b[0m\u001b[0;34m=\u001b[0m\u001b[0mBPKD_2021_RCE\u001b[0m\u001b[0;34m[\u001b[0m\u001b[0;34m'Krajowe zapotrzebowanie na moc'\u001b[0m\u001b[0;34m]\u001b[0m\u001b[0;34m.\u001b[0m\u001b[0mastype\u001b[0m\u001b[0;34m(\u001b[0m\u001b[0mfloat\u001b[0m\u001b[0;34m)\u001b[0m\u001b[0;34m\u001b[0m\u001b[0;34m\u001b[0m\u001b[0m\n\u001b[1;32m      4\u001b[0m \u001b[0;34m\u001b[0m\u001b[0m\n\u001b[0;32m----> 5\u001b[0;31m \u001b[0mBPKD_2021_RCE\u001b[0m\u001b[0;34m[\u001b[0m\u001b[0;34m'Suma zdolnoœci wytwórczych jednostek wytwórczych w KSE'\u001b[0m\u001b[0;34m]\u001b[0m\u001b[0;34m=\u001b[0m\u001b[0mBPKD_2021_RCE\u001b[0m\u001b[0;34m[\u001b[0m\u001b[0;34m'Suma zdolnoœci wytwórczych jednostek wytwórczych w KSE'\u001b[0m\u001b[0;34m]\u001b[0m\u001b[0;34m.\u001b[0m\u001b[0mastype\u001b[0m\u001b[0;34m(\u001b[0m\u001b[0mfloat\u001b[0m\u001b[0;34m)\u001b[0m\u001b[0;34m\u001b[0m\u001b[0;34m\u001b[0m\u001b[0m\n\u001b[0m\u001b[1;32m      6\u001b[0m \u001b[0;34m\u001b[0m\u001b[0m\n\u001b[1;32m      7\u001b[0m \u001b[0mBPKD_2021_RCE\u001b[0m\u001b[0;34m[\u001b[0m\u001b[0;34m'Suma zdolnoœci wytwórczych JGWa'\u001b[0m\u001b[0;34m]\u001b[0m\u001b[0;34m=\u001b[0m\u001b[0mBPKD_2021_RCE\u001b[0m\u001b[0;34m[\u001b[0m\u001b[0;34m'Suma zdolnoœci wytwórczych JGWa'\u001b[0m\u001b[0;34m]\u001b[0m\u001b[0;34m.\u001b[0m\u001b[0mastype\u001b[0m\u001b[0;34m(\u001b[0m\u001b[0mfloat\u001b[0m\u001b[0;34m)\u001b[0m\u001b[0;34m\u001b[0m\u001b[0;34m\u001b[0m\u001b[0m\n",
      "\u001b[0;32m~/opt/anaconda3/lib/python3.8/site-packages/pandas/core/frame.py\u001b[0m in \u001b[0;36m__getitem__\u001b[0;34m(self, key)\u001b[0m\n\u001b[1;32m   3022\u001b[0m             \u001b[0;32mif\u001b[0m \u001b[0mself\u001b[0m\u001b[0;34m.\u001b[0m\u001b[0mcolumns\u001b[0m\u001b[0;34m.\u001b[0m\u001b[0mnlevels\u001b[0m \u001b[0;34m>\u001b[0m \u001b[0;36m1\u001b[0m\u001b[0;34m:\u001b[0m\u001b[0;34m\u001b[0m\u001b[0;34m\u001b[0m\u001b[0m\n\u001b[1;32m   3023\u001b[0m                 \u001b[0;32mreturn\u001b[0m \u001b[0mself\u001b[0m\u001b[0;34m.\u001b[0m\u001b[0m_getitem_multilevel\u001b[0m\u001b[0;34m(\u001b[0m\u001b[0mkey\u001b[0m\u001b[0;34m)\u001b[0m\u001b[0;34m\u001b[0m\u001b[0;34m\u001b[0m\u001b[0m\n\u001b[0;32m-> 3024\u001b[0;31m             \u001b[0mindexer\u001b[0m \u001b[0;34m=\u001b[0m \u001b[0mself\u001b[0m\u001b[0;34m.\u001b[0m\u001b[0mcolumns\u001b[0m\u001b[0;34m.\u001b[0m\u001b[0mget_loc\u001b[0m\u001b[0;34m(\u001b[0m\u001b[0mkey\u001b[0m\u001b[0;34m)\u001b[0m\u001b[0;34m\u001b[0m\u001b[0;34m\u001b[0m\u001b[0m\n\u001b[0m\u001b[1;32m   3025\u001b[0m             \u001b[0;32mif\u001b[0m \u001b[0mis_integer\u001b[0m\u001b[0;34m(\u001b[0m\u001b[0mindexer\u001b[0m\u001b[0;34m)\u001b[0m\u001b[0;34m:\u001b[0m\u001b[0;34m\u001b[0m\u001b[0;34m\u001b[0m\u001b[0m\n\u001b[1;32m   3026\u001b[0m                 \u001b[0mindexer\u001b[0m \u001b[0;34m=\u001b[0m \u001b[0;34m[\u001b[0m\u001b[0mindexer\u001b[0m\u001b[0;34m]\u001b[0m\u001b[0;34m\u001b[0m\u001b[0;34m\u001b[0m\u001b[0m\n",
      "\u001b[0;32m~/opt/anaconda3/lib/python3.8/site-packages/pandas/core/indexes/base.py\u001b[0m in \u001b[0;36mget_loc\u001b[0;34m(self, key, method, tolerance)\u001b[0m\n\u001b[1;32m   3080\u001b[0m                 \u001b[0;32mreturn\u001b[0m \u001b[0mself\u001b[0m\u001b[0;34m.\u001b[0m\u001b[0m_engine\u001b[0m\u001b[0;34m.\u001b[0m\u001b[0mget_loc\u001b[0m\u001b[0;34m(\u001b[0m\u001b[0mcasted_key\u001b[0m\u001b[0;34m)\u001b[0m\u001b[0;34m\u001b[0m\u001b[0;34m\u001b[0m\u001b[0m\n\u001b[1;32m   3081\u001b[0m             \u001b[0;32mexcept\u001b[0m \u001b[0mKeyError\u001b[0m \u001b[0;32mas\u001b[0m \u001b[0merr\u001b[0m\u001b[0;34m:\u001b[0m\u001b[0;34m\u001b[0m\u001b[0;34m\u001b[0m\u001b[0m\n\u001b[0;32m-> 3082\u001b[0;31m                 \u001b[0;32mraise\u001b[0m \u001b[0mKeyError\u001b[0m\u001b[0;34m(\u001b[0m\u001b[0mkey\u001b[0m\u001b[0;34m)\u001b[0m \u001b[0;32mfrom\u001b[0m \u001b[0merr\u001b[0m\u001b[0;34m\u001b[0m\u001b[0;34m\u001b[0m\u001b[0m\n\u001b[0m\u001b[1;32m   3083\u001b[0m \u001b[0;34m\u001b[0m\u001b[0m\n\u001b[1;32m   3084\u001b[0m         \u001b[0;32mif\u001b[0m \u001b[0mtolerance\u001b[0m \u001b[0;32mis\u001b[0m \u001b[0;32mnot\u001b[0m \u001b[0;32mNone\u001b[0m\u001b[0;34m:\u001b[0m\u001b[0;34m\u001b[0m\u001b[0;34m\u001b[0m\u001b[0m\n",
      "\u001b[0;31mKeyError\u001b[0m: 'Suma zdolnoœci wytwórczych jednostek wytwórczych w KSE'"
     ]
    }
   ],
   "source": [
    "BPKD_2021_RCE['Month']=BPKD_2021_RCE['Month'].astype(float)\n",
    "\n",
    "BPKD_2021_RCE['Krajowe zapotrzebowanie na moc']=BPKD_2021_RCE['Krajowe zapotrzebowanie na moc'].astype(float)\n",
    "\n",
    "BPKD_2021_RCE['Suma zdolno�ci wytw�rczych jednostek wytw�rczych w KSE']=BPKD_2021_RCE['Suma zdolno�ci wytw�rczych jednostek wytw�rczych w KSE'].astype(float)\n",
    "\n",
    "BPKD_2021_RCE['Suma zdolno�ci wytw�rczych JGWa']=BPKD_2021_RCE['Suma zdolno�ci wytw�rczych JGWa'].astype(float)\n",
    "              \n",
    "BPKD_2021_RCE['Suma zdolnoœci wytwórczych JGMa']=BPKD_2021_RCE['Suma zdolnoœci wytwórczych JGMa'].astype(float)\n",
    "\n",
    "BPKD_2021_RCE['Sumaryczna generacja JG aktywnych: JGWa, JGFWa, JGMa i JGPVa']=BPKD_2021_RCE['Sumaryczna generacja JG aktywnych: JGWa, JGFWa, JGMa i JGPVa'].astype(float)\n",
    "\n",
    "BPKD_2021_RCE['Sumaryczna generacja JGWa']= BPKD_2021_RCE['Sumaryczna generacja JGWa'].astype(float)\n",
    "\n",
    "BPKD_2021_RCE['Sumaryczna generacja JGMa']= BPKD_2021_RCE['Sumaryczna generacja JGMa'].astype(float)\n",
    "\n",
    "BPKD_2021_RCE['Sumaryczna generacja jednostek wytwórczych nieuczestnicz¹cych aktywnie w Rynku Bilansuj¹cym']=BPKD_2021_RCE['Sumaryczna generacja jednostek wytwórczych nieuczestnicz¹cych aktywnie w Rynku Bilansuj¹cym'].astype(float)\n",
    "\n",
    "BPKD_2021_RCE['Generacja Ÿróde³ wiatrowych']=BPKD_2021_RCE['Generacja Ÿróde³ wiatrowych'].astype(float)\n",
    "\n",
    "BPKD_2021_RCE['Generacja Ÿróde³ fotowoltaicznych']=BPKD_2021_RCE['Generacja Ÿróde³ fotowoltaicznych'].astype(float)\n",
    "\n",
    "BPKD_2021_RCE['Krajowe saldo wymiany miêdzysystemowej równoleg³ej']=BPKD_2021_RCE['Krajowe saldo wymiany miêdzysystemowej równoleg³ej'].astype(float)\n",
    "\n",
    "BPKD_2021_RCE['Krajowe saldo wymiany miêdzysystemowej nierównoleg³ej']=BPKD_2021_RCE['Krajowe saldo wymiany miêdzysystemowej nierównoleg³ej'].astype(float)\n",
    "\n",
    "BPKD_2021_RCE['Rezerwa mocy ponad zapotrzebowanie']=BPKD_2021_RCE['Rezerwa mocy ponad zapotrzebowanie'].astype(float)\n",
    "\n",
    "BPKD_2021_RCE['Rezerwa mocy poni¿ej zapotrzebowania']=BPKD_2021_RCE['Rezerwa mocy poni¿ej zapotrzebowania'].astype(float)\n",
    "\n",
    "BPKD_2021_RCE['Suma mocy z wykorzystanych Ofert Redukcji Obci¹¿enia JGOa']=BPKD_2021_RCE['Suma mocy z wykorzystanych Ofert Redukcji Obci¹¿enia JGOa'].astype(float)"
   ]
  },
  {
   "cell_type": "code",
   "execution_count": null,
   "id": "122561d6-d754-4d0b-8e59-2ad7b151b6ec",
   "metadata": {},
   "outputs": [],
   "source": [
    "BPKD_2021_RCE.drop(['Godzina'],axis=1,inplace=True)"
   ]
  },
  {
   "cell_type": "code",
   "execution_count": null,
   "id": "b01a75a8-f451-43fc-96c1-462ab530a594",
   "metadata": {},
   "outputs": [],
   "source": [
    "BPKD_2021_RCE.rename(columns={'Krajowe zapotrzebowanie na moc':'National Demand for Capacity/Total load [MW]'},inplace=True)\n",
    "BPKD_2021_RCE.rename(columns={'Suma zdolno�ci wytw�rczych jednostek wytw�rczych w KSE':'Total capacity standing in the system [MW]'},inplace=True)\n",
    "BPKD_2021_RCE.rename(columns={'Suma zdolnoœci wytwórczych JGWa':'Total capacity of the scheduled generating units [MW]'},inplace=True)\n",
    "BPKD_2021_RCE.rename(columns={'Suma zdolnoœci wytwórczych JGMa':'Total capacity of the scheduled storage units [MW]'},inplace=True)\n",
    "BPKD_2021_RCE.rename(columns={'Sumaryczna generacja JG aktywnych: JGWa, JGFWa, JGMa i JGPVa':'Total generation from all the scheduled units [MWh]'},inplace=True)\n",
    "BPKD_2021_RCE.rename(columns={'Sumaryczna generacja JGWa':'Total generation from the scheduled generation units [MWh]'},inplace=True)\n",
    "BPKD_2021_RCE.rename(columns={'Sumaryczna generacja JGMa':'Total generation from the scheduled storage units [MWh]'},inplace=True)\n",
    "BPKD_2021_RCE.rename(columns={'Sumaryczna generacja jednostek wytwórczych nieuczestnicz¹cych aktywnie w Rynku Bilansuj¹cym':'Total generation from non-balancing generation units [MWh]'},inplace=True)\n",
    "BPKD_2021_RCE.rename(columns={'Generacja Ÿróde³ wiatrowych':'Total generation from wind units [MWh]'},inplace=True)\n",
    "BPKD_2021_RCE.rename(columns={'Generacja Ÿróde³ fotowoltaicznych':'Total generation from solar units [MWh]'},inplace=True)\n",
    "BPKD_2021_RCE.rename(columns={'Krajowe saldo wymiany miêdzysystemowej równoleg³ej':'National balance on synchronous exchange [MWh]'},inplace=True)\n",
    "BPKD_2021_RCE.rename(columns={'Krajowe saldo wymiany miêdzysystemowej nierównoleg³ej':'National balance on asynchronous exchange [MWh]'},inplace=True)\n",
    "BPKD_2021_RCE.rename(columns={'Rezerwa mocy ponad zapotrzebowanie':'Reserve of capacity above demand [MW]'},inplace=True)\n",
    "BPKD_2021_RCE.rename(columns={'Rezerwa mocy poni¿ej zapotrzebowania':'Reserve of capacity below demand [MW]'},inplace=True)\n",
    "BPKD_2021_RCE.rename(columns={'Suma mocy z wykorzystanych Ofert Redukcji Obci¹¿enia JGOa':'Total capacity from the offers of load reduction [MW]'},inplace=True)\n",
    "BPKD_2021_RCE.rename(columns={'RCE':'Market price of electricity [PLN/MWh]'},inplace=True)"
   ]
  },
  {
   "cell_type": "code",
   "execution_count": null,
   "id": "fc2280ce-6eab-4d15-b3e1-15c58b38eb74",
   "metadata": {},
   "outputs": [],
   "source": [
    "BPKD_2021_RCE.to_csv('/Volumes/SONY_MOV1/Intraday market Poland 2021.csv')\n",
    "BPKD_2021_RCE.to_excel('/Volumes/SONY_MOV1/Intraday market Poland 2021.xlsx')\n",
    "BPKD_2021_RCE.info()"
   ]
  },
  {
   "cell_type": "code",
   "execution_count": null,
   "id": "c4fa09ec-ce62-4118-8404-e204789d10a5",
   "metadata": {},
   "outputs": [],
   "source": [
    "label = \"Month\""
   ]
  },
  {
   "cell_type": "code",
   "execution_count": null,
   "id": "c17f375e-0357-4e12-87e2-f0fdeefaf424",
   "metadata": {},
   "outputs": [],
   "source": [
    "classes = BPKD_2021[label].unique().tolist()\n",
    "print(f\"Label classes: {classes}\")\n",
    "\n",
    "BPKD_2021[label] = BPKD_2021[label].map(classes.index)"
   ]
  },
  {
   "cell_type": "code",
   "execution_count": null,
   "id": "d5a8a78c-802d-4084-9186-eff6f40e4c53",
   "metadata": {},
   "outputs": [],
   "source": [
    "# Split the dataset into a training and a testing dataset.\n",
    "\n",
    "def split_dataset(dataset, test_ratio=0.30):\n",
    "  \"\"\"Splits a panda dataframe in two.\"\"\"\n",
    "  test_indices = np.random.rand(len(dataset)) < test_ratio\n",
    "  return dataset[~test_indices], dataset[test_indices]\n",
    "\n",
    "\n",
    "train_ds_pd, test_ds_pd = split_dataset(BPKD_2021)\n",
    "print(\"{} examples in training, {} examples for testing.\".format(\n",
    "    len(train_ds_pd), len(test_ds_pd)))"
   ]
  },
  {
   "cell_type": "code",
   "execution_count": null,
   "id": "7055d12a-fb1a-45e0-b0fc-850e97d8860f",
   "metadata": {},
   "outputs": [],
   "source": [
    "train_ds = tfdf.keras.pd_dataframe_to_tf_dataset(train_ds_pd, label=label)\n",
    "test_ds = tfdf.keras.pd_dataframe_to_tf_dataset(test_ds_pd, label=label)"
   ]
  },
  {
   "cell_type": "code",
   "execution_count": null,
   "id": "c74c5b54-3524-4e4a-b3b2-ab868175ee90",
   "metadata": {},
   "outputs": [],
   "source": [
    "# Specify the model.\n",
    "model_1 = tfdf.keras.RandomForestModel(verbose=2)\n",
    "\n",
    "# Train the model.\n",
    "model_1.fit(train_ds)"
   ]
  },
  {
   "cell_type": "code",
   "execution_count": null,
   "id": "5c72b070-0865-4cc6-a7b9-b84496429ab1",
   "metadata": {},
   "outputs": [],
   "source": [
    "model_1.compile(metrics=[\"accuracy\"])\n",
    "evaluation = model_1.evaluate(test_ds, return_dict=True)\n",
    "print()\n",
    "\n",
    "for name, value in evaluation.items():\n",
    "  print(f\"{name}: {value:.4f}\")"
   ]
  },
  {
   "cell_type": "code",
   "execution_count": null,
   "id": "58df3bbf-f8b0-468e-84f8-9eda7c2ca318",
   "metadata": {},
   "outputs": [],
   "source": [
    "tfdf.model_plotter.plot_model_in_colab(model_1, tree_idx=0, max_depth=4)"
   ]
  },
  {
   "cell_type": "code",
   "execution_count": null,
   "id": "9080b50f-7eeb-4992-8a88-76763e4ec464",
   "metadata": {},
   "outputs": [],
   "source": [
    "model_1.summary()"
   ]
  },
  {
   "cell_type": "code",
   "execution_count": null,
   "id": "72cd37da-309a-4741-93a7-39c31664ac71",
   "metadata": {},
   "outputs": [],
   "source": []
  }
 ],
 "metadata": {
  "kernelspec": {
   "display_name": "Python 3",
   "language": "python",
   "name": "python3"
  },
  "language_info": {
   "codemirror_mode": {
    "name": "ipython",
    "version": 3
   },
   "file_extension": ".py",
   "mimetype": "text/x-python",
   "name": "python",
   "nbconvert_exporter": "python",
   "pygments_lexer": "ipython3",
   "version": "3.8.8"
  }
 },
 "nbformat": 4,
 "nbformat_minor": 5
}
